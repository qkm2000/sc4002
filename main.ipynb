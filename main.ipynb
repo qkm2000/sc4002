{
 "cells": [
  {
   "cell_type": "code",
   "execution_count": 1,
   "metadata": {},
   "outputs": [
    {
     "name": "stderr",
     "output_type": "stream",
     "text": [
      "[nltk_data] Downloading package punkt_tab to\n",
      "[nltk_data]     C:\\Users\\qkm20\\AppData\\Roaming\\nltk_data...\n",
      "[nltk_data]   Package punkt_tab is already up-to-date!\n",
      "[nltk_data] Downloading package wordnet to\n",
      "[nltk_data]     C:\\Users\\qkm20\\AppData\\Roaming\\nltk_data...\n",
      "[nltk_data]   Package wordnet is already up-to-date!\n",
      "[nltk_data] Downloading package omw-1.4 to\n",
      "[nltk_data]     C:\\Users\\qkm20\\AppData\\Roaming\\nltk_data...\n",
      "[nltk_data]   Package omw-1.4 is already up-to-date!\n"
     ]
    },
    {
     "data": {
      "text/plain": [
       "True"
      ]
     },
     "execution_count": 1,
     "metadata": {},
     "output_type": "execute_result"
    }
   ],
   "source": [
    "from datasets import load_dataset\n",
    "from utils.utils import *\n",
    "from utils.model import *\n",
    "from dotenv import load_dotenv\n",
    "\n",
    "load_dotenv()"
   ]
  },
  {
   "cell_type": "code",
   "execution_count": null,
   "metadata": {},
   "outputs": [],
   "source": []
  },
  {
   "cell_type": "code",
   "execution_count": 2,
   "metadata": {},
   "outputs": [],
   "source": [
    "dataset = load_dataset(\"rotten_tomatoes\")\n",
    "train_dataset = dataset[\"train\"]\n",
    "validation_dataset = dataset[\"validation\"]\n",
    "test_dataset = dataset[\"test\"]"
   ]
  },
  {
   "cell_type": "code",
   "execution_count": 3,
   "metadata": {},
   "outputs": [],
   "source": [
    "sentences_train = process_data(data=train_dataset[\"text\"])\n",
    "sentences_validation = process_data(data=validation_dataset[\"text\"])\n",
    "sentences_test = process_data(data=test_dataset[\"text\"])"
   ]
  },
  {
   "cell_type": "code",
   "execution_count": 4,
   "metadata": {},
   "outputs": [
    {
     "name": "stdout",
     "output_type": "stream",
     "text": [
      "Epoch   1/100, Loss: 0.5664, Validation Accuracy: 0.7674\n",
      "Epoch   2/100, Loss: 0.4760, Validation Accuracy: 0.7777\n",
      "Epoch   3/100, Loss: 0.4534, Validation Accuracy: 0.7899\n",
      "Epoch   4/100, Loss: 0.4338, Validation Accuracy: 0.7992\n",
      "Epoch   5/100, Loss: 0.4112, Validation Accuracy: 0.7786\n",
      "Epoch   6/100, Loss: 0.3850, Validation Accuracy: 0.7805\n",
      "Epoch   7/100, Loss: 0.3628, Validation Accuracy: 0.7955\n",
      "Epoch   8/100, Loss: 0.3297, Validation Accuracy: 0.7927\n",
      "Epoch   9/100, Loss: 0.2982, Validation Accuracy: 0.8011\n",
      "Epoch  10/100, Loss: 0.2661, Validation Accuracy: 0.7955\n",
      "Epoch  11/100, Loss: 0.2305, Validation Accuracy: 0.7899\n",
      "Epoch  12/100, Loss: 0.1950, Validation Accuracy: 0.7655\n",
      "Epoch  13/100, Loss: 0.1605, Validation Accuracy: 0.7749\n",
      "Epoch  14/100, Loss: 0.1341, Validation Accuracy: 0.7805\n",
      "Epoch  15/100, Loss: 0.1243, Validation Accuracy: 0.7636\n",
      "Epoch  16/100, Loss: 0.0960, Validation Accuracy: 0.7767\n",
      "Epoch  17/100, Loss: 0.0846, Validation Accuracy: 0.7589\n",
      "Epoch  18/100, Loss: 0.0701, Validation Accuracy: 0.7664\n",
      "Epoch  19/100, Loss: 0.0560, Validation Accuracy: 0.7758\n",
      "Early stopping triggered after 19 epochs.\n",
      "Validation Accuracy: 0.7758\n",
      "Test Accuracy: 0.7758\n"
     ]
    }
   ],
   "source": [
    "# Initialize the sentiment analysis model\n",
    "sentiment_model = SentimentAnalysis(\n",
    "    sentences_train=sentences_train,\n",
    "    labels_train=train_dataset[\"label\"],\n",
    "    sentences_val=sentences_validation,\n",
    "    labels_val=validation_dataset[\"label\"],\n",
    "    sentences_test=sentences_test,\n",
    "    labels_test=test_dataset[\"label\"],\n",
    "    batch_size=32,\n",
    "    lr=0.001,\n",
    "    rnn_type=\"LSTM\",\n",
    "    early_stopping_patience=10,\n",
    "    version=\"v1\",\n",
    "    freeze_embeddings=True,\n",
    ")\n",
    "\n",
    "# Train the model\n",
    "sentiment_model.train(epochs=100)"
   ]
  }
 ],
 "metadata": {
  "kernelspec": {
   "display_name": "sc4002",
   "language": "python",
   "name": "python3"
  },
  "language_info": {
   "codemirror_mode": {
    "name": "ipython",
    "version": 3
   },
   "file_extension": ".py",
   "mimetype": "text/x-python",
   "name": "python",
   "nbconvert_exporter": "python",
   "pygments_lexer": "ipython3",
   "version": "3.12.7"
  }
 },
 "nbformat": 4,
 "nbformat_minor": 2
}
