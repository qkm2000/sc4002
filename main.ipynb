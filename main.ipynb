{
 "cells": [
  {
   "cell_type": "code",
   "execution_count": 1,
   "metadata": {},
   "outputs": [
    {
     "name": "stderr",
     "output_type": "stream",
     "text": [
      "[nltk_data] Downloading package punkt_tab to\n",
      "[nltk_data]     C:\\Users\\qkm20\\AppData\\Roaming\\nltk_data...\n",
      "[nltk_data]   Package punkt_tab is already up-to-date!\n",
      "[nltk_data] Downloading package wordnet to\n",
      "[nltk_data]     C:\\Users\\qkm20\\AppData\\Roaming\\nltk_data...\n",
      "[nltk_data]   Package wordnet is already up-to-date!\n",
      "[nltk_data] Downloading package omw-1.4 to\n",
      "[nltk_data]     C:\\Users\\qkm20\\AppData\\Roaming\\nltk_data...\n",
      "[nltk_data]   Package omw-1.4 is already up-to-date!\n"
     ]
    },
    {
     "data": {
      "text/plain": [
       "True"
      ]
     },
     "execution_count": 1,
     "metadata": {},
     "output_type": "execute_result"
    }
   ],
   "source": [
    "from datasets import load_dataset\n",
    "from utils.utils import *\n",
    "from utils.model import *\n",
    "from dotenv import load_dotenv\n",
    "import os\n",
    "\n",
    "load_dotenv()"
   ]
  },
  {
   "cell_type": "code",
   "execution_count": 2,
   "metadata": {},
   "outputs": [],
   "source": [
    "dataset = load_dataset(\"rotten_tomatoes\")\n",
    "train_dataset = dataset[\"train\"]\n",
    "validation_dataset = dataset[\"validation\"]\n",
    "test_dataset = dataset[\"test\"]"
   ]
  },
  {
   "cell_type": "code",
   "execution_count": 3,
   "metadata": {},
   "outputs": [],
   "source": [
    "sentences_train = process_data(data=train_dataset[\"text\"])\n",
    "sentences_validation = process_data(data=validation_dataset[\"text\"])\n",
    "sentences_test = process_data(data=test_dataset[\"text\"])"
   ]
  },
  {
   "cell_type": "code",
   "execution_count": 4,
   "metadata": {},
   "outputs": [
    {
     "name": "stdout",
     "output_type": "stream",
     "text": [
      "Epoch   1/100, Loss: 0.5548, Validation Accuracy: 0.7711\n",
      "Epoch   2/100, Loss: 0.4729, Validation Accuracy: 0.7711\n",
      "Epoch   3/100, Loss: 0.4517, Validation Accuracy: 0.7692\n",
      "Epoch   4/100, Loss: 0.4313, Validation Accuracy: 0.8030\n",
      "Epoch   5/100, Loss: 0.4086, Validation Accuracy: 0.8021\n",
      "Epoch   6/100, Loss: 0.3824, Validation Accuracy: 0.7889\n",
      "Epoch   7/100, Loss: 0.3569, Validation Accuracy: 0.7833\n",
      "Epoch   8/100, Loss: 0.3310, Validation Accuracy: 0.8002\n",
      "Epoch   9/100, Loss: 0.2986, Validation Accuracy: 0.7889\n",
      "Epoch  10/100, Loss: 0.2664, Validation Accuracy: 0.7749\n",
      "Epoch  11/100, Loss: 0.2311, Validation Accuracy: 0.7861\n",
      "Epoch  12/100, Loss: 0.1960, Validation Accuracy: 0.7674\n",
      "Epoch  13/100, Loss: 0.1661, Validation Accuracy: 0.7561\n",
      "Epoch  14/100, Loss: 0.1389, Validation Accuracy: 0.7608\n",
      "Early stopping triggered after 14 epochs.\n",
      "Validation Accuracy: 0.7617\n",
      "Test Accuracy: 0.7617\n"
     ]
    }
   ],
   "source": [
    "# Initialize the sentiment analysis model\n",
    "sentiment_model = SentimentAnalysis(\n",
    "    sentences_train=sentences_train,\n",
    "    labels_train=train_dataset[\"label\"],\n",
    "    sentences_val=sentences_validation,\n",
    "    labels_val=validation_dataset[\"label\"],\n",
    "    sentences_test=sentences_test,\n",
    "    labels_test=test_dataset[\"label\"],\n",
    "    batch_size=32,\n",
    "    lr=0.001,\n",
    "    rnn_type=\"LSTM\",\n",
    "    early_stopping_patience=10,\n",
    "    version=\"v3\",\n",
    "    model_save_path=os.getenv(\"MODEL_PATH\"),\n",
    "    freeze_embeddings=True,\n",
    ")\n",
    "\n",
    "# Train the model\n",
    "sentiment_model.train(epochs=100)"
   ]
  },
  {
   "cell_type": "code",
   "execution_count": 5,
   "metadata": {},
   "outputs": [
    {
     "name": "stdout",
     "output_type": "stream",
     "text": [
      "Validation Accuracy: 0.7617\n"
     ]
    },
    {
     "data": {
      "text/plain": [
       "0.7617260787992496"
      ]
     },
     "execution_count": 5,
     "metadata": {},
     "output_type": "execute_result"
    }
   ],
   "source": [
    "sentiment_model.validate(dataset=\"test\")"
   ]
  }
 ],
 "metadata": {
  "kernelspec": {
   "display_name": "sc4002",
   "language": "python",
   "name": "python3"
  },
  "language_info": {
   "codemirror_mode": {
    "name": "ipython",
    "version": 3
   },
   "file_extension": ".py",
   "mimetype": "text/x-python",
   "name": "python",
   "nbconvert_exporter": "python",
   "pygments_lexer": "ipython3",
   "version": "3.12.7"
  }
 },
 "nbformat": 4,
 "nbformat_minor": 2
}
