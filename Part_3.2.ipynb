{
 "cells": [
  {
   "cell_type": "markdown",
   "metadata": {},
   "source": [
    "\n",
    "# Replace RNN model with biL-STM model and biGRU model"
   ]
  },
  {
   "cell_type": "markdown",
   "metadata": {},
   "source": [
    "Comparison between the models : \n",
    "+ (+)RNNs process data in a sequential manner (one direction); they retain information from previous steps but can struggle to remember distant information due to issues like vanishing gradients.\n",
    "- (-)RNNs fail to capture long-term dependencies, especially in long sequences, as the information fades over time, and gradients vanish during backpropagation through time. Limits effectiveness in tasks requiring model to remember information over many time steps.\n",
    "-----------------------------------------------\n",
    "- (+)BiLSTM : Bidirectional Long Short-Term Memory, a RNN, handle long term dependencies better. It has gates that help regulate flow of information, enabling them to retain or discard information as needed.\n",
    "\n",
    "- BiLSTM consists of 2 LSTM layers running in opposite directions : 1 processes sequence from past to future, while other processes it from future to past : captures both past and future context for each time step \n",
    "\n",
    "- BiLSTM helps to capture context from both directions, beneficial in tasks where understanding context of each word is important\n",
    "\n",
    "- (-) BiLSTMs are computationally more intensive than regular LSTMs and RNNs due to bidirectional component and complexity of gating mechanism\n",
    "-----------------------------------------------\n",
    "- (+)BiGRU, type of RNN, has 2 gates instead of 3 used by LSTMS - makes GRUs faster to computer while still handling long-term dependencies better than traditional RNNs. Includes 2 GRU layers, one running forward one running backward, learnign both past and present context. \n",
    "\n",
    "- BiGRUs achieve similar performance to BiLSTMs but with fewer parameters and faster computation, making them more efficient for large datasets \n",
    "\n",
    "- (-)Although GRUs generally simpler and faster, might be less expressive in certain cases due to absence of output gate\n",
    "\n",
    "\n"
   ]
  },
  {
   "cell_type": "code",
   "execution_count": 1,
   "metadata": {},
   "outputs": [
    {
     "name": "stdout",
     "output_type": "stream",
     "text": [
      "Requirement already satisfied: numpy==1.26.4 in c:\\users\\pushp\\anaconda3\\lib\\site-packages (from -r requirements.txt (line 1)) (1.26.4)\n",
      "Requirement already satisfied: pandas==2.2.2 in c:\\users\\pushp\\anaconda3\\lib\\site-packages (from -r requirements.txt (line 2)) (2.2.2)\n",
      "Requirement already satisfied: scikit-learn==1.5.2 in c:\\users\\pushp\\anaconda3\\lib\\site-packages (from -r requirements.txt (line 3)) (1.5.2)\n",
      "Requirement already satisfied: seaborn==0.13.2 in c:\\users\\pushp\\anaconda3\\lib\\site-packages (from -r requirements.txt (line 4)) (0.13.2)\n",
      "Requirement already satisfied: matplotlib==3.9.2 in c:\\users\\pushp\\anaconda3\\lib\\site-packages (from -r requirements.txt (line 5)) (3.9.2)\n",
      "Requirement already satisfied: datasets==3.0.1 in c:\\users\\pushp\\anaconda3\\lib\\site-packages (from -r requirements.txt (line 6)) (3.0.1)\n",
      "Requirement already satisfied: nltk==3.9.1 in c:\\users\\pushp\\anaconda3\\lib\\site-packages (from -r requirements.txt (line 7)) (3.9.1)\n",
      "Requirement already satisfied: gensim==4.3.3 in c:\\users\\pushp\\anaconda3\\lib\\site-packages (from -r requirements.txt (line 8)) (4.3.3)\n",
      "Requirement already satisfied: ipywidgets==8.1.5 in c:\\users\\pushp\\anaconda3\\lib\\site-packages (from -r requirements.txt (line 9)) (8.1.5)\n",
      "Requirement already satisfied: python-dotenv==1.0.1 in c:\\users\\pushp\\anaconda3\\lib\\site-packages (from -r requirements.txt (line 10)) (1.0.1)\n",
      "Requirement already satisfied: python-dateutil>=2.8.2 in c:\\users\\pushp\\anaconda3\\lib\\site-packages (from pandas==2.2.2->-r requirements.txt (line 2)) (2.8.2)\n",
      "Requirement already satisfied: pytz>=2020.1 in c:\\users\\pushp\\anaconda3\\lib\\site-packages (from pandas==2.2.2->-r requirements.txt (line 2)) (2022.1)\n",
      "Requirement already satisfied: tzdata>=2022.7 in c:\\users\\pushp\\anaconda3\\lib\\site-packages (from pandas==2.2.2->-r requirements.txt (line 2)) (2024.1)\n",
      "Requirement already satisfied: scipy>=1.6.0 in c:\\users\\pushp\\anaconda3\\lib\\site-packages (from scikit-learn==1.5.2->-r requirements.txt (line 3)) (1.13.1)\n",
      "Requirement already satisfied: joblib>=1.2.0 in c:\\users\\pushp\\anaconda3\\lib\\site-packages (from scikit-learn==1.5.2->-r requirements.txt (line 3)) (1.4.2)\n",
      "Requirement already satisfied: threadpoolctl>=3.1.0 in c:\\users\\pushp\\anaconda3\\lib\\site-packages (from scikit-learn==1.5.2->-r requirements.txt (line 3)) (3.5.0)\n",
      "Requirement already satisfied: kiwisolver>=1.3.1 in c:\\users\\pushp\\anaconda3\\lib\\site-packages (from matplotlib==3.9.2->-r requirements.txt (line 5)) (1.4.2)\n",
      "Requirement already satisfied: fonttools>=4.22.0 in c:\\users\\pushp\\anaconda3\\lib\\site-packages (from matplotlib==3.9.2->-r requirements.txt (line 5)) (4.25.0)\n",
      "Requirement already satisfied: packaging>=20.0 in c:\\users\\pushp\\anaconda3\\lib\\site-packages (from matplotlib==3.9.2->-r requirements.txt (line 5)) (24.1)\n",
      "Requirement already satisfied: importlib-resources>=3.2.0 in c:\\users\\pushp\\anaconda3\\lib\\site-packages (from matplotlib==3.9.2->-r requirements.txt (line 5)) (6.4.5)\n",
      "Requirement already satisfied: cycler>=0.10 in c:\\users\\pushp\\anaconda3\\lib\\site-packages (from matplotlib==3.9.2->-r requirements.txt (line 5)) (0.11.0)\n",
      "Requirement already satisfied: pyparsing>=2.3.1 in c:\\users\\pushp\\anaconda3\\lib\\site-packages (from matplotlib==3.9.2->-r requirements.txt (line 5)) (3.0.9)\n",
      "Requirement already satisfied: contourpy>=1.0.1 in c:\\users\\pushp\\anaconda3\\lib\\site-packages (from matplotlib==3.9.2->-r requirements.txt (line 5)) (1.3.0)\n",
      "Requirement already satisfied: pillow>=8 in c:\\users\\pushp\\anaconda3\\lib\\site-packages (from matplotlib==3.9.2->-r requirements.txt (line 5)) (10.4.0)\n",
      "Requirement already satisfied: huggingface-hub>=0.22.0 in c:\\users\\pushp\\anaconda3\\lib\\site-packages (from datasets==3.0.1->-r requirements.txt (line 6)) (0.26.2)\n",
      "Requirement already satisfied: requests>=2.32.2 in c:\\users\\pushp\\anaconda3\\lib\\site-packages (from datasets==3.0.1->-r requirements.txt (line 6)) (2.32.3)\n",
      "Requirement already satisfied: multiprocess in c:\\users\\pushp\\anaconda3\\lib\\site-packages (from datasets==3.0.1->-r requirements.txt (line 6)) (0.70.16)\n",
      "Requirement already satisfied: filelock in c:\\users\\pushp\\anaconda3\\lib\\site-packages (from datasets==3.0.1->-r requirements.txt (line 6)) (3.6.0)\n",
      "Requirement already satisfied: dill<0.3.9,>=0.3.0 in c:\\users\\pushp\\anaconda3\\lib\\site-packages (from datasets==3.0.1->-r requirements.txt (line 6)) (0.3.8)\n",
      "Requirement already satisfied: aiohttp in c:\\users\\pushp\\anaconda3\\lib\\site-packages (from datasets==3.0.1->-r requirements.txt (line 6)) (3.10.5)\n",
      "Requirement already satisfied: pyyaml>=5.1 in c:\\users\\pushp\\anaconda3\\lib\\site-packages (from datasets==3.0.1->-r requirements.txt (line 6)) (6.0)\n",
      "Requirement already satisfied: fsspec[http]<=2024.6.1,>=2023.1.0 in c:\\users\\pushp\\anaconda3\\lib\\site-packages (from datasets==3.0.1->-r requirements.txt (line 6)) (2024.6.1)\n",
      "Requirement already satisfied: pyarrow>=15.0.0 in c:\\users\\pushp\\anaconda3\\lib\\site-packages (from datasets==3.0.1->-r requirements.txt (line 6)) (18.0.0)\n",
      "Requirement already satisfied: tqdm>=4.66.3 in c:\\users\\pushp\\anaconda3\\lib\\site-packages (from datasets==3.0.1->-r requirements.txt (line 6)) (4.66.6)\n",
      "Requirement already satisfied: xxhash in c:\\users\\pushp\\anaconda3\\lib\\site-packages (from datasets==3.0.1->-r requirements.txt (line 6)) (3.5.0)\n",
      "Requirement already satisfied: click in c:\\users\\pushp\\anaconda3\\lib\\site-packages (from nltk==3.9.1->-r requirements.txt (line 7)) (8.0.4)\n",
      "Requirement already satisfied: regex>=2021.8.3 in c:\\users\\pushp\\anaconda3\\lib\\site-packages (from nltk==3.9.1->-r requirements.txt (line 7)) (2022.7.9)\n",
      "Requirement already satisfied: smart-open>=1.8.1 in c:\\users\\pushp\\anaconda3\\lib\\site-packages (from gensim==4.3.3->-r requirements.txt (line 8)) (5.2.1)\n",
      "Requirement already satisfied: ipython>=6.1.0 in c:\\users\\pushp\\anaconda3\\lib\\site-packages (from ipywidgets==8.1.5->-r requirements.txt (line 9)) (7.31.1)\n",
      "Requirement already satisfied: comm>=0.1.3 in c:\\users\\pushp\\anaconda3\\lib\\site-packages (from ipywidgets==8.1.5->-r requirements.txt (line 9)) (0.2.2)\n",
      "Requirement already satisfied: widgetsnbextension~=4.0.12 in c:\\users\\pushp\\anaconda3\\lib\\site-packages (from ipywidgets==8.1.5->-r requirements.txt (line 9)) (4.0.13)\n",
      "Requirement already satisfied: traitlets>=4.3.1 in c:\\users\\pushp\\anaconda3\\lib\\site-packages (from ipywidgets==8.1.5->-r requirements.txt (line 9)) (5.1.1)\n",
      "Requirement already satisfied: jupyterlab-widgets~=3.0.12 in c:\\users\\pushp\\anaconda3\\lib\\site-packages (from ipywidgets==8.1.5->-r requirements.txt (line 9)) (3.0.13)\n",
      "Requirement already satisfied: yarl<2.0,>=1.0 in c:\\users\\pushp\\anaconda3\\lib\\site-packages (from aiohttp->datasets==3.0.1->-r requirements.txt (line 6)) (1.11.1)\n",
      "Requirement already satisfied: aiosignal>=1.1.2 in c:\\users\\pushp\\anaconda3\\lib\\site-packages (from aiohttp->datasets==3.0.1->-r requirements.txt (line 6)) (1.3.1)\n",
      "Requirement already satisfied: attrs>=17.3.0 in c:\\users\\pushp\\anaconda3\\lib\\site-packages (from aiohttp->datasets==3.0.1->-r requirements.txt (line 6)) (21.4.0)\n",
      "Requirement already satisfied: multidict<7.0,>=4.5 in c:\\users\\pushp\\anaconda3\\lib\\site-packages (from aiohttp->datasets==3.0.1->-r requirements.txt (line 6)) (6.1.0)\n",
      "Requirement already satisfied: async-timeout<5.0,>=4.0 in c:\\users\\pushp\\anaconda3\\lib\\site-packages (from aiohttp->datasets==3.0.1->-r requirements.txt (line 6)) (4.0.3)\n",
      "Requirement already satisfied: aiohappyeyeballs>=2.3.0 in c:\\users\\pushp\\anaconda3\\lib\\site-packages (from aiohttp->datasets==3.0.1->-r requirements.txt (line 6)) (2.4.0)\n",
      "Requirement already satisfied: frozenlist>=1.1.1 in c:\\users\\pushp\\anaconda3\\lib\\site-packages (from aiohttp->datasets==3.0.1->-r requirements.txt (line 6)) (1.4.1)\n",
      "Requirement already satisfied: typing-extensions>=3.7.4.3 in c:\\users\\pushp\\anaconda3\\lib\\site-packages (from huggingface-hub>=0.22.0->datasets==3.0.1->-r requirements.txt (line 6)) (4.12.2)\n",
      "Requirement already satisfied: zipp>=3.1.0 in c:\\users\\pushp\\anaconda3\\lib\\site-packages (from importlib-resources>=3.2.0->matplotlib==3.9.2->-r requirements.txt (line 5)) (3.8.0)\n",
      "Requirement already satisfied: pickleshare in c:\\users\\pushp\\anaconda3\\lib\\site-packages (from ipython>=6.1.0->ipywidgets==8.1.5->-r requirements.txt (line 9)) (0.7.5)\n",
      "Requirement already satisfied: matplotlib-inline in c:\\users\\pushp\\anaconda3\\lib\\site-packages (from ipython>=6.1.0->ipywidgets==8.1.5->-r requirements.txt (line 9)) (0.1.6)\n",
      "Requirement already satisfied: backcall in c:\\users\\pushp\\anaconda3\\lib\\site-packages (from ipython>=6.1.0->ipywidgets==8.1.5->-r requirements.txt (line 9)) (0.2.0)\n",
      "Requirement already satisfied: pygments in c:\\users\\pushp\\anaconda3\\lib\\site-packages (from ipython>=6.1.0->ipywidgets==8.1.5->-r requirements.txt (line 9)) (2.18.0)\n",
      "Requirement already satisfied: prompt-toolkit!=3.0.0,!=3.0.1,<3.1.0,>=2.0.0 in c:\\users\\pushp\\anaconda3\\lib\\site-packages (from ipython>=6.1.0->ipywidgets==8.1.5->-r requirements.txt (line 9)) (3.0.20)\n",
      "Requirement already satisfied: setuptools>=18.5 in c:\\users\\pushp\\anaconda3\\lib\\site-packages (from ipython>=6.1.0->ipywidgets==8.1.5->-r requirements.txt (line 9)) (72.1.0)\n",
      "Requirement already satisfied: colorama in c:\\users\\pushp\\anaconda3\\lib\\site-packages (from ipython>=6.1.0->ipywidgets==8.1.5->-r requirements.txt (line 9)) (0.4.4)\n",
      "Requirement already satisfied: decorator in c:\\users\\pushp\\anaconda3\\lib\\site-packages (from ipython>=6.1.0->ipywidgets==8.1.5->-r requirements.txt (line 9)) (5.1.1)\n",
      "Requirement already satisfied: jedi>=0.16 in c:\\users\\pushp\\anaconda3\\lib\\site-packages (from ipython>=6.1.0->ipywidgets==8.1.5->-r requirements.txt (line 9)) (0.18.1)\n",
      "Requirement already satisfied: six>=1.5 in c:\\users\\pushp\\anaconda3\\lib\\site-packages (from python-dateutil>=2.8.2->pandas==2.2.2->-r requirements.txt (line 2)) (1.16.0)\n",
      "Requirement already satisfied: certifi>=2017.4.17 in c:\\users\\pushp\\anaconda3\\lib\\site-packages (from requests>=2.32.2->datasets==3.0.1->-r requirements.txt (line 6)) (2022.9.14)\n",
      "Requirement already satisfied: charset-normalizer<4,>=2 in c:\\users\\pushp\\anaconda3\\lib\\site-packages (from requests>=2.32.2->datasets==3.0.1->-r requirements.txt (line 6)) (2.0.4)\n",
      "Requirement already satisfied: idna<4,>=2.5 in c:\\users\\pushp\\anaconda3\\lib\\site-packages (from requests>=2.32.2->datasets==3.0.1->-r requirements.txt (line 6)) (3.7)\n",
      "Requirement already satisfied: urllib3<3,>=1.21.1 in c:\\users\\pushp\\anaconda3\\lib\\site-packages (from requests>=2.32.2->datasets==3.0.1->-r requirements.txt (line 6)) (1.26.11)\n",
      "Requirement already satisfied: parso<0.9.0,>=0.8.0 in c:\\users\\pushp\\anaconda3\\lib\\site-packages (from jedi>=0.16->ipython>=6.1.0->ipywidgets==8.1.5->-r requirements.txt (line 9)) (0.8.3)\n",
      "Requirement already satisfied: wcwidth in c:\\users\\pushp\\anaconda3\\lib\\site-packages (from prompt-toolkit!=3.0.0,!=3.0.1,<3.1.0,>=2.0.0->ipython>=6.1.0->ipywidgets==8.1.5->-r requirements.txt (line 9)) (0.2.5)\n"
     ]
    }
   ],
   "source": [
    "!pip install -r requirements.txt"
   ]
  },
  {
   "cell_type": "code",
   "execution_count": 2,
   "metadata": {},
   "outputs": [
    {
     "name": "stderr",
     "output_type": "stream",
     "text": [
      "c:\\Users\\pushp\\anaconda3\\lib\\site-packages\\pandas\\core\\computation\\expressions.py:21: UserWarning: Pandas requires version '2.8.4' or newer of 'numexpr' (version '2.8.3' currently installed).\n",
      "  from pandas.core.computation.check import NUMEXPR_INSTALLED\n",
      "c:\\Users\\pushp\\anaconda3\\lib\\site-packages\\pandas\\core\\arrays\\masked.py:60: UserWarning: Pandas requires version '1.3.6' or newer of 'bottleneck' (version '1.3.5' currently installed).\n",
      "  from pandas.core import (\n",
      "[nltk_data] Downloading package punkt_tab to\n",
      "[nltk_data]     C:\\Users\\pushp\\AppData\\Roaming\\nltk_data...\n",
      "[nltk_data]   Package punkt_tab is already up-to-date!\n",
      "[nltk_data] Downloading package wordnet to\n",
      "[nltk_data]     C:\\Users\\pushp\\AppData\\Roaming\\nltk_data...\n",
      "[nltk_data]   Package wordnet is already up-to-date!\n",
      "[nltk_data] Downloading package omw-1.4 to\n",
      "[nltk_data]     C:\\Users\\pushp\\AppData\\Roaming\\nltk_data...\n",
      "[nltk_data]   Package omw-1.4 is already up-to-date!\n"
     ]
    },
    {
     "data": {
      "text/plain": [
       "False"
      ]
     },
     "execution_count": 2,
     "metadata": {},
     "output_type": "execute_result"
    }
   ],
   "source": [
    "from datasets import load_dataset\n",
    "from utils.rnn_model import *\n",
    "from utils.rnn_utils import *\n",
    "from dotenv import load_dotenv\n",
    "import os\n",
    "\n",
    "load_dotenv()"
   ]
  },
  {
   "cell_type": "code",
   "execution_count": 3,
   "metadata": {},
   "outputs": [
    {
     "data": {
      "application/vnd.jupyter.widget-view+json": {
       "model_id": "3d3b9d7ceb6249c9849fae1423412a51",
       "version_major": 2,
       "version_minor": 0
      },
      "text/plain": [
       "README.md:   0%|          | 0.00/7.46k [00:00<?, ?B/s]"
      ]
     },
     "metadata": {},
     "output_type": "display_data"
    },
    {
     "name": "stderr",
     "output_type": "stream",
     "text": [
      "c:\\Users\\pushp\\anaconda3\\lib\\site-packages\\huggingface_hub\\file_download.py:139: UserWarning: `huggingface_hub` cache-system uses symlinks by default to efficiently store duplicated files but your machine does not support them in C:\\Users\\pushp\\.cache\\huggingface\\hub\\datasets--rotten_tomatoes. Caching files will still work but in a degraded version that might require more space on your disk. This warning can be disabled by setting the `HF_HUB_DISABLE_SYMLINKS_WARNING` environment variable. For more details, see https://huggingface.co/docs/huggingface_hub/how-to-cache#limitations.\n",
      "To support symlinks on Windows, you either need to activate Developer Mode or to run Python as an administrator. In order to activate developer mode, see this article: https://docs.microsoft.com/en-us/windows/apps/get-started/enable-your-device-for-development\n",
      "  warnings.warn(message)\n"
     ]
    },
    {
     "data": {
      "application/vnd.jupyter.widget-view+json": {
       "model_id": "a1c66de3235142b5b2f04a150352dc14",
       "version_major": 2,
       "version_minor": 0
      },
      "text/plain": [
       "train.parquet:   0%|          | 0.00/699k [00:00<?, ?B/s]"
      ]
     },
     "metadata": {},
     "output_type": "display_data"
    },
    {
     "data": {
      "application/vnd.jupyter.widget-view+json": {
       "model_id": "480f4f33364644d7bba4f9d868924bd6",
       "version_major": 2,
       "version_minor": 0
      },
      "text/plain": [
       "validation.parquet:   0%|          | 0.00/90.0k [00:00<?, ?B/s]"
      ]
     },
     "metadata": {},
     "output_type": "display_data"
    },
    {
     "data": {
      "application/vnd.jupyter.widget-view+json": {
       "model_id": "1d23c38fc1134788a0265bd4e0202b1c",
       "version_major": 2,
       "version_minor": 0
      },
      "text/plain": [
       "test.parquet:   0%|          | 0.00/92.2k [00:00<?, ?B/s]"
      ]
     },
     "metadata": {},
     "output_type": "display_data"
    },
    {
     "data": {
      "application/vnd.jupyter.widget-view+json": {
       "model_id": "057025d63793461ea5c896df76d1191d",
       "version_major": 2,
       "version_minor": 0
      },
      "text/plain": [
       "Generating train split:   0%|          | 0/8530 [00:00<?, ? examples/s]"
      ]
     },
     "metadata": {},
     "output_type": "display_data"
    },
    {
     "data": {
      "application/vnd.jupyter.widget-view+json": {
       "model_id": "cb46bdbefc6b4ef282e7eb992ebc33f7",
       "version_major": 2,
       "version_minor": 0
      },
      "text/plain": [
       "Generating validation split:   0%|          | 0/1066 [00:00<?, ? examples/s]"
      ]
     },
     "metadata": {},
     "output_type": "display_data"
    },
    {
     "data": {
      "application/vnd.jupyter.widget-view+json": {
       "model_id": "1bb4a215309a4b848db23e7327a3db03",
       "version_major": 2,
       "version_minor": 0
      },
      "text/plain": [
       "Generating test split:   0%|          | 0/1066 [00:00<?, ? examples/s]"
      ]
     },
     "metadata": {},
     "output_type": "display_data"
    }
   ],
   "source": [
    "dataset = load_dataset(\"rotten_tomatoes\")\n",
    "trn_dataset = dataset[\"train\"]\n",
    "val_dataset = dataset[\"validation\"]\n",
    "tst_dataset = dataset[\"test\"]"
   ]
  },
  {
   "cell_type": "code",
   "execution_count": 5,
   "metadata": {},
   "outputs": [
    {
     "name": "stdout",
     "output_type": "stream",
     "text": [
      "[==================================================] 100.0% 1662.8/1662.8MB downloaded\n"
     ]
    }
   ],
   "source": [
    "word2vec_model = load_word2vec()\n"
   ]
  },
  {
   "cell_type": "code",
   "execution_count": 6,
   "metadata": {},
   "outputs": [],
   "source": [
    "word_index = {\n",
    "    word: i for i, word in enumerate(\n",
    "        word2vec_model.index_to_key\n",
    "    )\n",
    "}"
   ]
  },
  {
   "cell_type": "code",
   "execution_count": 7,
   "metadata": {},
   "outputs": [],
   "source": [
    "trn_sentences, trn_labels = prepare_data(\n",
    "    trn_dataset[\"text\"],\n",
    "    trn_dataset[\"label\"],\n",
    "    word_index=word_index\n",
    ")\n",
    "val_sentences, val_labels = prepare_data(\n",
    "    val_dataset[\"text\"],\n",
    "    val_dataset[\"label\"],\n",
    "    word_index=word_index\n",
    ")\n",
    "tst_sentences, tst_labels = prepare_data(\n",
    "    tst_dataset[\"text\"],\n",
    "    tst_dataset[\"label\"],\n",
    "    word_index=word_index\n",
    ")"
   ]
  },
  {
   "cell_type": "markdown",
   "metadata": {},
   "source": [
    "# biL-STM model"
   ]
  },
  {
   "cell_type": "code",
   "execution_count": 8,
   "metadata": {},
   "outputs": [],
   "source": [
    "\n",
    "BATCH_SIZE = 32\n",
    "LR = 0.0001\n",
    "MODEL_TYPE = \"lstm\""
   ]
  },
  {
   "cell_type": "code",
   "execution_count": 12,
   "metadata": {},
   "outputs": [],
   "source": [
    "trn_dataloader = create_dataloader(\n",
    "    trn_sentences,\n",
    "    trn_labels,\n",
    "    BATCH_SIZE,\n",
    "    shuffle=True)\n",
    "val_dataloader = create_dataloader(\n",
    "    val_sentences,\n",
    "    val_labels,\n",
    "    BATCH_SIZE,\n",
    "    shuffle=False)\n",
    "tst_dataloader = create_dataloader(\n",
    "    tst_sentences,\n",
    "    tst_labels,\n",
    "    BATCH_SIZE,\n",
    "    shuffle=False)"
   ]
  },
  {
   "cell_type": "code",
   "execution_count": 9,
   "metadata": {},
   "outputs": [],
   "source": [
    "# initialize BiLSTM model with both directions and multiple layers\n",
    "model = RNNModel(\n",
    "    embedding_dim=300,\n",
    "    hidden_size=256,\n",
    "    embedding_matrix=word2vec_model.vectors,\n",
    "    rnn_type=MODEL_TYPE,       # alr set to \"lstm\" for BiLSTM\n",
    "    bidirectional=True,        # enable bidirectionality\n",
    "    num_layers=2               # set to 2 for stacking multiple layers\n",
    ")"
   ]
  },
  {
   "cell_type": "code",
   "execution_count": 14,
   "metadata": {},
   "outputs": [
    {
     "name": "stdout",
     "output_type": "stream",
     "text": [
      "Epoch   1/100, Loss: 0.5111, Accuracy: 0.7589\n",
      "Model saved.\n",
      "Epoch   2/100, Loss: 0.4887, Accuracy: 0.7486\n",
      "Epoch   3/100, Loss: 0.4731, Accuracy: 0.7561\n",
      "Epoch   4/100, Loss: 0.4597, Accuracy: 0.7439\n",
      "Epoch   5/100, Loss: 0.4552, Accuracy: 0.7523\n",
      "Epoch   6/100, Loss: 0.4439, Accuracy: 0.7561\n",
      "Epoch   7/100, Loss: 0.4370, Accuracy: 0.7542\n",
      "Epoch   8/100, Loss: 0.4268, Accuracy: 0.7542\n",
      "Epoch   9/100, Loss: 0.4181, Accuracy: 0.7533\n",
      "Epoch  10/100, Loss: 0.4090, Accuracy: 0.7505\n",
      "Epoch  11/100, Loss: 0.3999, Accuracy: 0.7570\n",
      "Early stopping triggered after 11 epochs.\n",
      "Training ended, loading best model...\n",
      "Model loaded.\n"
     ]
    }
   ],
   "source": [
    "# training with max pooling over the BiLSTM outputs\n",
    "train(\n",
    "    model=model,\n",
    "    trn_dataloader=trn_dataloader,\n",
    "    val_dataloader=val_dataloader,\n",
    "    version=\"1\",\n",
    "    model_type=MODEL_TYPE,\n",
    "    model_save_path=os.getenv(\"MODEL_SAVE_PATH\", \"modelfiles/\"),\n",
    "    optimizer=torch.optim.Adam(model.parameters(), lr=LR),\n",
    "    epochs=100,\n",
    "    early_stopping_patience=10,\n",
    "    train_mode=\"max_pool\"      # use max_pool for training\n",
    ")"
   ]
  },
  {
   "cell_type": "code",
   "execution_count": 15,
   "metadata": {},
   "outputs": [
    {
     "name": "stdout",
     "output_type": "stream",
     "text": [
      "Accuracy: 0.7627\n",
      "Epoch   1/100, Loss: 0.4859, Accuracy: 0.7627\n",
      "Model saved.\n",
      "Accuracy: 0.7711\n",
      "Epoch   2/100, Loss: 0.4716, Accuracy: 0.7711\n",
      "Model saved.\n",
      "Accuracy: 0.7383\n",
      "Epoch   3/100, Loss: 0.4654, Accuracy: 0.7383\n",
      "Accuracy: 0.7542\n",
      "Epoch   4/100, Loss: 0.4548, Accuracy: 0.7542\n",
      "Accuracy: 0.7580\n",
      "Epoch   5/100, Loss: 0.4456, Accuracy: 0.7580\n",
      "Accuracy: 0.7636\n",
      "Epoch   6/100, Loss: 0.4364, Accuracy: 0.7636\n",
      "Accuracy: 0.7645\n",
      "Epoch   7/100, Loss: 0.4297, Accuracy: 0.7645\n",
      "Accuracy: 0.7542\n",
      "Epoch   8/100, Loss: 0.4229, Accuracy: 0.7542\n",
      "Accuracy: 0.7561\n",
      "Epoch   9/100, Loss: 0.4160, Accuracy: 0.7561\n",
      "Accuracy: 0.7477\n",
      "Epoch  10/100, Loss: 0.4156, Accuracy: 0.7477\n",
      "Accuracy: 0.7402\n",
      "Epoch  11/100, Loss: 0.4014, Accuracy: 0.7402\n",
      "Accuracy: 0.7533\n",
      "Epoch  12/100, Loss: 0.3938, Accuracy: 0.7533\n",
      "Early stopping triggered after 12 epochs.\n",
      "Training ended, loading best model...\n",
      "Model loaded.\n"
     ]
    },
    {
     "data": {
      "image/png": "[encoded data removed]",
      "text/plain": [
       "<Figure size 1000x500 with 1 Axes>"
      ]
     },
     "metadata": {},
     "output_type": "display_data"
    }
   ],
   "source": [
    "# Training and plotting results with the BiLSTM model\n",
    "train_and_plot(\n",
    "    model=model,\n",
    "    trn_dataloader=trn_dataloader,\n",
    "    val_dataloader=val_dataloader,\n",
    "    version=\"1\",\n",
    "    model_type=MODEL_TYPE,\n",
    "    model_save_path=os.getenv(\"MODEL_SAVE_PATH\", \"modelfiles/\"),\n",
    "    optimizer=torch.optim.Adam(model.parameters(), lr=LR),\n",
    "    epochs=100,\n",
    "    early_stopping_patience=10,\n",
    "    train_mode=\"max_pool\"      # use max_pool for training\n",
    ")"
   ]
  },
  {
   "cell_type": "code",
   "execution_count": 16,
   "metadata": {},
   "outputs": [
    {
     "name": "stdout",
     "output_type": "stream",
     "text": [
      "Accuracy: 0.7711\n"
     ]
    }
   ],
   "source": [
    "# Validate the BiLSTM model on validation and test datasets\n",
    "val_accuracy = validate(model, val_dataloader)"
   ]
  },
  {
   "cell_type": "code",
   "execution_count": 17,
   "metadata": {},
   "outputs": [
    {
     "name": "stdout",
     "output_type": "stream",
     "text": [
      "Accuracy: 0.7439\n"
     ]
    }
   ],
   "source": [
    "tst_accuracy = validate(model, tst_dataloader)"
   ]
  },
  {
   "cell_type": "markdown",
   "metadata": {},
   "source": [
    "Trying with an increased number of stack layers"
   ]
  },
  {
   "cell_type": "code",
   "execution_count": null,
   "metadata": {},
   "outputs": [],
   "source": [
    "# initialize BiLSTM model with both directions and multiple layers\n",
    "model = RNNModel(\n",
    "    embedding_dim=300,\n",
    "    hidden_size=256,\n",
    "    embedding_matrix=word2vec_model.vectors,\n",
    "    rnn_type=MODEL_TYPE,       # alr set to \"lstm\" for BiLSTM\n",
    "    bidirectional=True,        # enable bidirectionality\n",
    "    num_layers=4               # increased to 4 for stacking multiple layers\n",
    ")"
   ]
  },
  {
   "cell_type": "code",
   "execution_count": 19,
   "metadata": {},
   "outputs": [
    {
     "name": "stdout",
     "output_type": "stream",
     "text": [
      "Accuracy: 0.7083\n",
      "Epoch   1/100, Loss: 0.6086, Accuracy: 0.7083\n",
      "Model saved.\n",
      "Accuracy: 0.7542\n",
      "Epoch   2/100, Loss: 0.5097, Accuracy: 0.7542\n",
      "Model saved.\n",
      "Accuracy: 0.7589\n",
      "Epoch   3/100, Loss: 0.4845, Accuracy: 0.7589\n",
      "Model saved.\n",
      "Accuracy: 0.7505\n",
      "Epoch   4/100, Loss: 0.4706, Accuracy: 0.7505\n",
      "Accuracy: 0.7580\n",
      "Epoch   5/100, Loss: 0.4590, Accuracy: 0.7580\n",
      "Accuracy: 0.7552\n",
      "Epoch   6/100, Loss: 0.4545, Accuracy: 0.7552\n",
      "Accuracy: 0.7683\n",
      "Epoch   7/100, Loss: 0.4476, Accuracy: 0.7683\n",
      "Model saved.\n",
      "Accuracy: 0.7580\n",
      "Epoch   8/100, Loss: 0.4350, Accuracy: 0.7580\n",
      "Accuracy: 0.7523\n",
      "Epoch   9/100, Loss: 0.4278, Accuracy: 0.7523\n",
      "Accuracy: 0.7627\n",
      "Epoch  10/100, Loss: 0.4211, Accuracy: 0.7627\n",
      "Accuracy: 0.7345\n",
      "Epoch  11/100, Loss: 0.4072, Accuracy: 0.7345\n",
      "Accuracy: 0.7355\n",
      "Epoch  12/100, Loss: 0.4005, Accuracy: 0.7355\n",
      "Accuracy: 0.7495\n",
      "Epoch  13/100, Loss: 0.3922, Accuracy: 0.7495\n",
      "Accuracy: 0.7448\n",
      "Epoch  14/100, Loss: 0.3819, Accuracy: 0.7448\n",
      "Accuracy: 0.7542\n",
      "Epoch  15/100, Loss: 0.3741, Accuracy: 0.7542\n",
      "Accuracy: 0.7467\n",
      "Epoch  16/100, Loss: 0.3584, Accuracy: 0.7467\n",
      "Accuracy: 0.7467\n",
      "Epoch  17/100, Loss: 0.3502, Accuracy: 0.7467\n",
      "Early stopping triggered after 17 epochs.\n",
      "Training ended, loading best model...\n",
      "Model loaded.\n"
     ]
    },
    {
     "data": {
      "image/png": "[encoded data removed]",
      "text/plain": [
       "<Figure size 1000x500 with 1 Axes>"
      ]
     },
     "metadata": {},
     "output_type": "display_data"
    }
   ],
   "source": [
    "# Training and plotting results with the BiLSTM model\n",
    "train_and_plot(\n",
    "    model=model,\n",
    "    trn_dataloader=trn_dataloader,\n",
    "    val_dataloader=val_dataloader,\n",
    "    version=\"1\",\n",
    "    model_type=MODEL_TYPE,\n",
    "    model_save_path=os.getenv(\"MODEL_SAVE_PATH\", \"modelfiles/\"),\n",
    "    optimizer=torch.optim.Adam(model.parameters(), lr=LR),\n",
    "    epochs=100,\n",
    "    early_stopping_patience=10,\n",
    "    train_mode=\"max_pool\"      # use max_pool for training\n",
    ")"
   ]
  },
  {
   "cell_type": "code",
   "execution_count": 20,
   "metadata": {},
   "outputs": [
    {
     "name": "stdout",
     "output_type": "stream",
     "text": [
      "Accuracy: 0.7683\n"
     ]
    }
   ],
   "source": [
    "# Validate the BiLSTM model on validation and test datasets\n",
    "val_accuracy = validate(model, val_dataloader)"
   ]
  },
  {
   "cell_type": "code",
   "execution_count": 21,
   "metadata": {},
   "outputs": [
    {
     "name": "stdout",
     "output_type": "stream",
     "text": [
      "Accuracy: 0.7477\n"
     ]
    }
   ],
   "source": [
    "tst_accuracy = validate(model, tst_dataloader)"
   ]
  },
  {
   "cell_type": "markdown",
   "metadata": {},
   "source": [
    "# biGRU model"
   ]
  }
 ],
 "metadata": {
  "kernelspec": {
   "display_name": "base",
   "language": "python",
   "name": "python3"
  },
  "language_info": {
   "codemirror_mode": {
    "name": "ipython",
    "version": 3
   },
   "file_extension": ".py",
   "mimetype": "text/x-python",
   "name": "python",
   "nbconvert_exporter": "python",
   "pygments_lexer": "ipython3",
   "version": "3.9.13"
  }
 },
 "nbformat": 4,
 "nbformat_minor": 2
}
