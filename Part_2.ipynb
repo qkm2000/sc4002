{
 "cells": [
  {
   "cell_type": "code",
   "execution_count": 1,
   "metadata": {},
   "outputs": [
    {
     "name": "stderr",
     "output_type": "stream",
     "text": [
      "[nltk_data] Downloading package punkt_tab to\n",
      "[nltk_data]     C:\\Users\\qkm20\\AppData\\Roaming\\nltk_data...\n",
      "[nltk_data]   Package punkt_tab is already up-to-date!\n",
      "[nltk_data] Downloading package wordnet to\n",
      "[nltk_data]     C:\\Users\\qkm20\\AppData\\Roaming\\nltk_data...\n",
      "[nltk_data]   Package wordnet is already up-to-date!\n",
      "[nltk_data] Downloading package omw-1.4 to\n",
      "[nltk_data]     C:\\Users\\qkm20\\AppData\\Roaming\\nltk_data...\n",
      "[nltk_data]   Package omw-1.4 is already up-to-date!\n"
     ]
    },
    {
     "data": {
      "text/plain": [
       "True"
      ]
     },
     "execution_count": 1,
     "metadata": {},
     "output_type": "execute_result"
    }
   ],
   "source": [
    "from datasets import load_dataset\n",
    "from utils.rnn_model import *\n",
    "from utils.rnn_utils import *\n",
    "from dotenv import load_dotenv\n",
    "import os\n",
    "\n",
    "load_dotenv()"
   ]
  },
  {
   "cell_type": "markdown",
   "metadata": {},
   "source": [
    "## Part 0: Dataset Preparation "
   ]
  },
  {
   "cell_type": "code",
   "execution_count": 2,
   "metadata": {},
   "outputs": [],
   "source": [
    "dataset = load_dataset(\"rotten_tomatoes\")\n",
    "trn_dataset = dataset[\"train\"]\n",
    "val_dataset = dataset[\"validation\"]\n",
    "tst_dataset = dataset[\"test\"]"
   ]
  },
  {
   "cell_type": "markdown",
   "metadata": {},
   "source": [
    "## Question 1: Word Embedding"
   ]
  },
  {
   "cell_type": "markdown",
   "metadata": {},
   "source": [
    "First, we define all the hyperparameters"
   ]
  },
  {
   "cell_type": "code",
   "execution_count": 3,
   "metadata": {},
   "outputs": [],
   "source": [
    "BATCH_SIZE = 32\n",
    "LR = 0.001\n",
    "MODEL_TYPE = \"rnn\""
   ]
  },
  {
   "cell_type": "markdown",
   "metadata": {},
   "source": [
    "We load the pre-trained Google News 300 dimension Word2Vec model"
   ]
  },
  {
   "cell_type": "code",
   "execution_count": 4,
   "metadata": {},
   "outputs": [],
   "source": [
    "word2vec_model = load_word2vec()"
   ]
  },
  {
   "cell_type": "markdown",
   "metadata": {},
   "source": [
    "We make use of the loaded pretrained model to prepare the data"
   ]
  },
  {
   "cell_type": "code",
   "execution_count": 5,
   "metadata": {},
   "outputs": [],
   "source": [
    "word_index = {\n",
    "    word: i for i, word in enumerate(\n",
    "        word2vec_model.index_to_key\n",
    "    )\n",
    "}"
   ]
  },
  {
   "cell_type": "code",
   "execution_count": 6,
   "metadata": {},
   "outputs": [],
   "source": [
    "trn_sentences, trn_labels = prepare_data(\n",
    "    trn_dataset[\"text\"],\n",
    "    trn_dataset[\"label\"],\n",
    "    word_index=word_index\n",
    ")\n",
    "val_sentences, val_labels = prepare_data(\n",
    "    val_dataset[\"text\"],\n",
    "    val_dataset[\"label\"],\n",
    "    word_index=word_index\n",
    ")\n",
    "tst_sentences, tst_labels = prepare_data(\n",
    "    tst_dataset[\"text\"],\n",
    "    tst_dataset[\"label\"],\n",
    "    word_index=word_index\n",
    ")"
   ]
  },
  {
   "cell_type": "markdown",
   "metadata": {},
   "source": [
    "Once the data is processed, we create dataloaders for the data for batch training"
   ]
  },
  {
   "cell_type": "code",
   "execution_count": 7,
   "metadata": {},
   "outputs": [],
   "source": [
    "trn_dataloader = create_dataloader(\n",
    "    trn_sentences,\n",
    "    trn_labels,\n",
    "    BATCH_SIZE,\n",
    "    shuffle=True)\n",
    "val_dataloader = create_dataloader(\n",
    "    val_sentences,\n",
    "    val_labels,\n",
    "    BATCH_SIZE,\n",
    "    shuffle=False)\n",
    "tst_dataloader = create_dataloader(\n",
    "    tst_sentences,\n",
    "    tst_labels,\n",
    "    BATCH_SIZE,\n",
    "    shuffle=False)"
   ]
  },
  {
   "cell_type": "markdown",
   "metadata": {},
   "source": [
    "Now that the data has been processed, we need to initialise the model"
   ]
  },
  {
   "cell_type": "code",
   "execution_count": 8,
   "metadata": {},
   "outputs": [],
   "source": [
    "model = RNNModel(\n",
    "    embedding_dim=300,\n",
    "    hidden_size=128,\n",
    "    embedding_matrix=word2vec_model.vectors,\n",
    "    rnn_type=MODEL_TYPE,\n",
    "    bidirectional=False,\n",
    "    num_layers=1,\n",
    ")"
   ]
  },
  {
   "cell_type": "markdown",
   "metadata": {},
   "source": [
    "Now that all the data is loaded and processed into Dataloaders, we can start training!"
   ]
  },
  {
   "cell_type": "code",
   "execution_count": 9,
   "metadata": {},
   "outputs": [
    {
     "name": "stdout",
     "output_type": "stream",
     "text": [
      "Epoch   1/100, Loss: 0.6909, Accuracy: 0.5722\n",
      "Model saved.\n",
      "Epoch   2/100, Loss: 0.6104, Accuracy: 0.6886\n",
      "Model saved.\n",
      "Epoch   3/100, Loss: 0.5456, Accuracy: 0.7261\n",
      "Model saved.\n",
      "Epoch   4/100, Loss: 0.5356, Accuracy: 0.7458\n",
      "Model saved.\n",
      "Epoch   5/100, Loss: 0.5132, Accuracy: 0.7289\n",
      "Epoch   6/100, Loss: 0.5036, Accuracy: 0.7448\n",
      "Epoch   7/100, Loss: 0.4965, Accuracy: 0.7242\n",
      "Epoch   8/100, Loss: 0.4766, Accuracy: 0.7420\n",
      "Epoch   9/100, Loss: 0.4647, Accuracy: 0.7411\n",
      "Epoch  10/100, Loss: 0.4556, Accuracy: 0.7392\n",
      "Epoch  11/100, Loss: 0.4407, Accuracy: 0.7083\n",
      "Epoch  12/100, Loss: 0.4343, Accuracy: 0.7486\n",
      "Model saved.\n",
      "Epoch  13/100, Loss: 0.4154, Accuracy: 0.7195\n",
      "Epoch  14/100, Loss: 0.4165, Accuracy: 0.7158\n",
      "Epoch  15/100, Loss: 0.4031, Accuracy: 0.7270\n",
      "Epoch  16/100, Loss: 0.3973, Accuracy: 0.7092\n",
      "Epoch  17/100, Loss: 0.3799, Accuracy: 0.7280\n",
      "Epoch  18/100, Loss: 0.3691, Accuracy: 0.6979\n",
      "Epoch  19/100, Loss: 0.3598, Accuracy: 0.7298\n",
      "Epoch  20/100, Loss: 0.3559, Accuracy: 0.7092\n",
      "Epoch  21/100, Loss: 0.3566, Accuracy: 0.7148\n",
      "Epoch  22/100, Loss: 0.3429, Accuracy: 0.7139\n",
      "Epoch  23/100, Loss: 0.3396, Accuracy: 0.7233\n",
      "Epoch  24/100, Loss: 0.3264, Accuracy: 0.7036\n",
      "Epoch  25/100, Loss: 0.3264, Accuracy: 0.7298\n",
      "Epoch  26/100, Loss: 0.3244, Accuracy: 0.7167\n",
      "Epoch  27/100, Loss: 0.3133, Accuracy: 0.7402\n",
      "Epoch  28/100, Loss: 0.3025, Accuracy: 0.7092\n",
      "Epoch  29/100, Loss: 0.2963, Accuracy: 0.7420\n",
      "Epoch  30/100, Loss: 0.2900, Accuracy: 0.7430\n",
      "Epoch  31/100, Loss: 0.2832, Accuracy: 0.7308\n",
      "Epoch  32/100, Loss: 0.2889, Accuracy: 0.7326\n",
      "Early stopping triggered after 32 epochs.\n",
      "Training ended, loading best model...\n",
      "Model loaded.\n"
     ]
    }
   ],
   "source": [
    "train(\n",
    "    model=model,\n",
    "    trn_dataloader=trn_dataloader,\n",
    "    val_dataloader=val_dataloader,\n",
    "    version=\"1\",\n",
    "    model_type=MODEL_TYPE,\n",
    "    model_save_path=os.getenv(\"MODEL_SAVE_PATH\"),\n",
    "    optimizer=torch.optim.Adam(model.parameters(), lr=LR),\n",
    "    epochs=100,\n",
    "    early_stopping_patience=20,\n",
    ")"
   ]
  },
  {
   "cell_type": "markdown",
   "metadata": {},
   "source": [
    "We run the validation check again to make sure we've loaded the right model"
   ]
  },
  {
   "cell_type": "code",
   "execution_count": 10,
   "metadata": {},
   "outputs": [
    {
     "name": "stdout",
     "output_type": "stream",
     "text": [
      "Accuracy: 0.7486\n"
     ]
    }
   ],
   "source": [
    "val_accuracy = validate(model, val_dataloader)"
   ]
  },
  {
   "cell_type": "markdown",
   "metadata": {},
   "source": [
    "Test the model on the test set to obtain the accuracy"
   ]
  },
  {
   "cell_type": "code",
   "execution_count": 11,
   "metadata": {},
   "outputs": [
    {
     "name": "stdout",
     "output_type": "stream",
     "text": [
      "Accuracy: 0.7242\n"
     ]
    }
   ],
   "source": [
    "tst_accuracy = validate(model, tst_dataloader)"
   ]
  }
 ],
 "metadata": {
  "kernelspec": {
   "display_name": "sc4002",
   "language": "python",
   "name": "python3"
  },
  "language_info": {
   "codemirror_mode": {
    "name": "ipython",
    "version": 3
   },
   "file_extension": ".py",
   "mimetype": "text/x-python",
   "name": "python",
   "nbconvert_exporter": "python",
   "pygments_lexer": "ipython3",
   "version": "3.12.7"
  }
 },
 "nbformat": 4,
 "nbformat_minor": 2
}
