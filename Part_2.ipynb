{
 "cells": [
  {
   "cell_type": "code",
   "execution_count": 1,
   "metadata": {},
   "outputs": [
    {
     "name": "stderr",
     "output_type": "stream",
     "text": [
      "[nltk_data] Downloading package punkt_tab to\n",
      "[nltk_data]     C:\\Users\\qkm20\\AppData\\Roaming\\nltk_data...\n",
      "[nltk_data]   Package punkt_tab is already up-to-date!\n",
      "[nltk_data] Downloading package wordnet to\n",
      "[nltk_data]     C:\\Users\\qkm20\\AppData\\Roaming\\nltk_data...\n",
      "[nltk_data]   Package wordnet is already up-to-date!\n",
      "[nltk_data] Downloading package omw-1.4 to\n",
      "[nltk_data]     C:\\Users\\qkm20\\AppData\\Roaming\\nltk_data...\n",
      "[nltk_data]   Package omw-1.4 is already up-to-date!\n"
     ]
    },
    {
     "data": {
      "text/plain": [
       "True"
      ]
     },
     "execution_count": 1,
     "metadata": {},
     "output_type": "execute_result"
    }
   ],
   "source": [
    "from datasets import load_dataset\n",
    "from utils.utils import *\n",
    "from utils.model import *\n",
    "from dotenv import load_dotenv\n",
    "import os\n",
    "\n",
    "load_dotenv()"
   ]
  },
  {
   "cell_type": "markdown",
   "metadata": {},
   "source": [
    "## Part 0: Dataset Preparation "
   ]
  },
  {
   "cell_type": "code",
   "execution_count": 2,
   "metadata": {},
   "outputs": [],
   "source": [
    "dataset = load_dataset(\"rotten_tomatoes\")\n",
    "train_dataset = dataset[\"train\"]\n",
    "validation_dataset = dataset[\"validation\"]\n",
    "test_dataset = dataset[\"test\"]"
   ]
  },
  {
   "cell_type": "markdown",
   "metadata": {},
   "source": [
    "## Question 1: Word Embedding"
   ]
  },
  {
   "cell_type": "code",
   "execution_count": 3,
   "metadata": {},
   "outputs": [
    {
     "name": "stdout",
     "output_type": "stream",
     "text": [
      "Sentence: the gorgeously elaborate continuation of \" the lord of the rings \" trilogy is so huge that a column of words cannot adequately describe co-writer/director peter jackson's expanded vision of j . r . r . tolkien's middle-earth .\n"
     ]
    }
   ],
   "source": [
    "# before preprocessing\n",
    "print(\"Sentence:\", train_dataset[\"text\"][1])"
   ]
  },
  {
   "cell_type": "code",
   "execution_count": 4,
   "metadata": {},
   "outputs": [],
   "source": [
    "sentences_train = process_data(data=train_dataset[\"text\"])\n",
    "sentences_validation = process_data(data=validation_dataset[\"text\"])\n",
    "sentences_test = process_data(data=test_dataset[\"text\"])"
   ]
  },
  {
   "cell_type": "code",
   "execution_count": 5,
   "metadata": {},
   "outputs": [
    {
     "name": "stdout",
     "output_type": "stream",
     "text": [
      "Word Tokens: ['the', 'gorgeously', 'elaborate', 'continuation', 'of', 'the', 'lord', 'of', 'the', 'rings', 'trilogy', 'is', 'so', 'huge', 'that', 'a', 'column', 'of', 'words', 'can', 'not', 'adequately', 'describe', 'co', 'writer', 'director', 'peter', 'jacksons', 'expanded', 'vision', 'of', 'j', 'r', 'r', 'tolkiens', 'middle', 'earth']\n"
     ]
    }
   ],
   "source": [
    "print(\"Word Tokens:\", sentences_train[1])"
   ]
  },
  {
   "cell_type": "code",
   "execution_count": 6,
   "metadata": {},
   "outputs": [
    {
     "name": "stdout",
     "output_type": "stream",
     "text": [
      "Preparing data...\n",
      "Data preparation complete.\n"
     ]
    }
   ],
   "source": [
    "# Initialize the sentiment analysis model\n",
    "sentiment_model = SentimentAnalysis(\n",
    "    sentences_train=sentences_train,\n",
    "    labels_train=train_dataset[\"label\"],\n",
    "    sentences_val=sentences_validation,\n",
    "    labels_val=validation_dataset[\"label\"],\n",
    "    sentences_test=sentences_test,\n",
    "    labels_test=test_dataset[\"label\"],\n",
    "    version=\"v4\",\n",
    "    embedding_dim=300,\n",
    "    batch_size=32,\n",
    "    lr=0.005,\n",
    "    rnn_type=\"LSTM\",\n",
    "    early_stopping_patience=10,\n",
    "    model_save_path=os.getenv(\"MODEL_PATH\"),\n",
    "    freeze_embeddings=True,\n",
    "    word2vec_filepath=r\"data\\fine_tuned_word2vec.model\",\n",
    "    input_embedding_filepath=r\"data\\input_embedding_matrix.npy\",\n",
    "    bidirectional=True\n",
    ")"
   ]
  },
  {
   "cell_type": "code",
   "execution_count": 7,
   "metadata": {},
   "outputs": [
    {
     "name": "stdout",
     "output_type": "stream",
     "text": [
      "Epoch   1/100, Loss: 0.6961, Validation Accuracy: 0.5000\n",
      "Model saved.\n",
      "Epoch   2/100, Loss: 0.6940, Validation Accuracy: 0.5169\n",
      "Model saved.\n",
      "Epoch   3/100, Loss: 0.6946, Validation Accuracy: 0.5019\n",
      "Epoch   4/100, Loss: 0.6948, Validation Accuracy: 0.4916\n",
      "Epoch   5/100, Loss: 0.6936, Validation Accuracy: 0.5169\n",
      "Epoch   6/100, Loss: 0.6943, Validation Accuracy: 0.5347\n",
      "Model saved.\n",
      "Epoch   7/100, Loss: 0.6943, Validation Accuracy: 0.5178\n",
      "Epoch   8/100, Loss: 0.6923, Validation Accuracy: 0.5216\n",
      "Epoch   9/100, Loss: 0.6938, Validation Accuracy: 0.5216\n",
      "Epoch  10/100, Loss: 0.6939, Validation Accuracy: 0.5235\n",
      "Epoch  11/100, Loss: 0.6938, Validation Accuracy: 0.5131\n",
      "Epoch  12/100, Loss: 0.6936, Validation Accuracy: 0.5216\n",
      "Epoch  13/100, Loss: 0.6932, Validation Accuracy: 0.5197\n",
      "Epoch  14/100, Loss: 0.6938, Validation Accuracy: 0.4934\n",
      "Epoch  15/100, Loss: 0.6941, Validation Accuracy: 0.5281\n",
      "Epoch  16/100, Loss: 0.6941, Validation Accuracy: 0.5150\n",
      "Early stopping triggered after 16 epochs.\n",
      "Model loaded.\n",
      "Test Accuracy: 0.5300\n"
     ]
    }
   ],
   "source": [
    "# Train the model\n",
    "sentiment_model.train(epochs=100)"
   ]
  },
  {
   "cell_type": "code",
   "execution_count": 8,
   "metadata": {},
   "outputs": [
    {
     "name": "stdout",
     "output_type": "stream",
     "text": [
      "Validation Accuracy: 0.5347\n"
     ]
    },
    {
     "data": {
      "text/plain": [
       "0.5347091932457786"
      ]
     },
     "execution_count": 8,
     "metadata": {},
     "output_type": "execute_result"
    }
   ],
   "source": [
    "sentiment_model.validate()"
   ]
  },
  {
   "cell_type": "code",
   "execution_count": 9,
   "metadata": {},
   "outputs": [
    {
     "name": "stdout",
     "output_type": "stream",
     "text": [
      "Test Accuracy: 0.5300\n"
     ]
    },
    {
     "data": {
      "text/plain": [
       "0.5300187617260788"
      ]
     },
     "execution_count": 9,
     "metadata": {},
     "output_type": "execute_result"
    }
   ],
   "source": [
    "sentiment_model.validate(dataset=\"test\")"
   ]
  }
 ],
 "metadata": {
  "kernelspec": {
   "display_name": "sc4002",
   "language": "python",
   "name": "python3"
  },
  "language_info": {
   "codemirror_mode": {
    "name": "ipython",
    "version": 3
   },
   "file_extension": ".py",
   "mimetype": "text/x-python",
   "name": "python",
   "nbconvert_exporter": "python",
   "pygments_lexer": "ipython3",
   "version": "3.12.7"
  }
 },
 "nbformat": 4,
 "nbformat_minor": 2
}
