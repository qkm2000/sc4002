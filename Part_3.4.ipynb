{
 "cells": [
  {
   "cell_type": "markdown",
   "metadata": {},
   "source": [
    "## Part 3.4 \n",
    "Keeping the above two adjustments, replace your simple RNN model in Part 2 with a Convolutional Neural Network (CNN) to produce sentence representations and perform sentiment\n",
    "classification."
   ]
  },
  {
   "cell_type": "code",
   "execution_count": 1,
   "metadata": {},
   "outputs": [
    {
     "name": "stderr",
     "output_type": "stream",
     "text": [
      "[nltk_data] Downloading package punkt_tab to\n",
      "[nltk_data]     C:\\Users\\glend\\AppData\\Roaming\\nltk_data...\n",
      "[nltk_data]   Package punkt_tab is already up-to-date!\n",
      "[nltk_data] Downloading package wordnet to\n",
      "[nltk_data]     C:\\Users\\glend\\AppData\\Roaming\\nltk_data...\n",
      "[nltk_data]   Package wordnet is already up-to-date!\n",
      "[nltk_data] Downloading package omw-1.4 to\n",
      "[nltk_data]     C:\\Users\\glend\\AppData\\Roaming\\nltk_data...\n",
      "[nltk_data]   Package omw-1.4 is already up-to-date!\n"
     ]
    },
    {
     "data": {
      "text/plain": [
       "True"
      ]
     },
     "execution_count": 1,
     "metadata": {},
     "output_type": "execute_result"
    }
   ],
   "source": [
    "from datasets import load_dataset\n",
    "from utils.rnn_model import *\n",
    "from utils.rnn_utils import *\n",
    "from dotenv import load_dotenv\n",
    "import os\n",
    "\n",
    "load_dotenv()"
   ]
  },
  {
   "cell_type": "code",
   "execution_count": 2,
   "metadata": {},
   "outputs": [],
   "source": [
    "dataset = load_dataset(\"rotten_tomatoes\")\n",
    "trn_dataset = dataset[\"train\"]\n",
    "val_dataset = dataset[\"validation\"]\n",
    "tst_dataset = dataset[\"test\"]"
   ]
  },
  {
   "cell_type": "code",
   "execution_count": 3,
   "metadata": {},
   "outputs": [],
   "source": [
    "# Obtain a list of unique words from the train set\n",
    "\n",
    "sentences = trn_dataset[\"text\"]\n",
    "words = []\n",
    "\n",
    "for i in range(len(sentences)):\n",
    "    sentences[i] = simple_preprocess(sentences[i])\n",
    "\n",
    "for sentence in sentences:\n",
    "    for word in sentence:\n",
    "        if word not in words:\n",
    "            words.append(word)\n",
    "\n",
    "# Pass it in to the load_word2vec function along w the relative filepath of the embedding file\n",
    "word2vec_model = load_word2vec(vocab=words, filepath=r\"data\\embedding_matrix_oov.npy\")"
   ]
  },
  {
   "cell_type": "code",
   "execution_count": 4,
   "metadata": {},
   "outputs": [],
   "source": [
    "word_index = {\n",
    "    word: i for i, word in enumerate(\n",
    "        word2vec_model.index_to_key\n",
    "    )\n",
    "}"
   ]
  },
  {
   "cell_type": "markdown",
   "metadata": {},
   "source": [
    "Dataloaders"
   ]
  },
  {
   "cell_type": "code",
   "execution_count": 5,
   "metadata": {},
   "outputs": [],
   "source": [
    "trn_sentences, trn_labels = prepare_data(\n",
    "    trn_dataset[\"text\"],\n",
    "    trn_dataset[\"label\"],\n",
    "    word_index=word_index\n",
    ")\n",
    "val_sentences, val_labels = prepare_data(\n",
    "    val_dataset[\"text\"],\n",
    "    val_dataset[\"label\"],\n",
    "    word_index=word_index\n",
    ")\n",
    "tst_sentences, tst_labels = prepare_data(\n",
    "    tst_dataset[\"text\"],\n",
    "    tst_dataset[\"label\"],\n",
    "    word_index=word_index\n",
    ")"
   ]
  },
  {
   "cell_type": "code",
   "execution_count": 6,
   "metadata": {},
   "outputs": [],
   "source": [
    "BATCH_SIZE = 32\n",
    "\n",
    "trn_dataloader = create_dataloader(\n",
    "    trn_sentences,\n",
    "    trn_labels,\n",
    "    BATCH_SIZE,\n",
    "    shuffle=True)\n",
    "val_dataloader = create_dataloader(\n",
    "    val_sentences,\n",
    "    val_labels,\n",
    "    BATCH_SIZE,\n",
    "    shuffle=False)\n",
    "tst_dataloader = create_dataloader(\n",
    "    tst_sentences,\n",
    "    tst_labels,\n",
    "    BATCH_SIZE,\n",
    "    shuffle=False)"
   ]
  },
  {
   "cell_type": "markdown",
   "metadata": {},
   "source": [
    "## Model"
   ]
  },
  {
   "cell_type": "code",
   "execution_count": 7,
   "metadata": {},
   "outputs": [],
   "source": [
    "LR = 0.0001\n",
    "MODEL_TYPE = \"CNN\""
   ]
  },
  {
   "cell_type": "code",
   "execution_count": null,
   "metadata": {},
   "outputs": [],
   "source": [
    "model = RNNModel(\n",
    "    embedding_dim=300,\n",
    "    hidden_size=128,\n",
    "    embedding_matrix=word2vec_model.vectors,\n",
    "    rnn_type=MODEL_TYPE,\n",
    "    freeze_embeddings=False,  # Set to False to make embeddings trainable\n",
    "    bidirectional=False,\n",
    "    num_layers=1,\n",
    ")"
   ]
  },
  {
   "cell_type": "code",
   "execution_count": null,
   "metadata": {},
   "outputs": [],
   "source": [
    "losses, accuracies = train(\n",
    "    model=model,\n",
    "    trn_dataloader=trn_dataloader,\n",
    "    val_dataloader=val_dataloader,\n",
    "    version=\"1\",\n",
    "    model_type=MODEL_TYPE,\n",
    "    model_save_path=os.getenv(\"MODEL_SAVE_PATH\", \"modelfiles/\"),\n",
    "    optimizer=torch.optim.Adam(model.parameters(), lr=LR),\n",
    "    epochs=100,\n",
    "    early_stopping_patience=10,\n",
    "    train_mode=\"mean_pool\" # train only the mean pool\n",
    ")"
   ]
  }
 ],
 "metadata": {
  "kernelspec": {
   "display_name": "Python 3",
   "language": "python",
   "name": "python3"
  },
  "language_info": {
   "codemirror_mode": {
    "name": "ipython",
    "version": 3
   },
   "file_extension": ".py",
   "mimetype": "text/x-python",
   "name": "python",
   "nbconvert_exporter": "python",
   "pygments_lexer": "ipython3",
   "version": "3.11.5"
  }
 },
 "nbformat": 4,
 "nbformat_minor": 2
}
