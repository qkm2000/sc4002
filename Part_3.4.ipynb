{
 "cells": [
  {
   "cell_type": "markdown",
   "metadata": {},
   "source": [
    "## Part 3.4 \n",
    "Keeping the above two adjustments, replace your simple RNN model in Part 2 with a Convolutional Neural Network (CNN) to produce sentence representations and perform sentiment\n",
    "classification."
   ]
  },
  {
   "cell_type": "code",
   "execution_count": 1,
   "metadata": {},
   "outputs": [
    {
     "name": "stderr",
     "output_type": "stream",
     "text": [
      "[nltk_data] Downloading package punkt_tab to\n",
      "[nltk_data]     C:\\Users\\glend\\AppData\\Roaming\\nltk_data...\n",
      "[nltk_data]   Package punkt_tab is already up-to-date!\n",
      "[nltk_data] Downloading package wordnet to\n",
      "[nltk_data]     C:\\Users\\glend\\AppData\\Roaming\\nltk_data...\n",
      "[nltk_data]   Package wordnet is already up-to-date!\n",
      "[nltk_data] Downloading package omw-1.4 to\n",
      "[nltk_data]     C:\\Users\\glend\\AppData\\Roaming\\nltk_data...\n",
      "[nltk_data]   Package omw-1.4 is already up-to-date!\n"
     ]
    },
    {
     "data": {
      "text/plain": [
       "True"
      ]
     },
     "execution_count": 1,
     "metadata": {},
     "output_type": "execute_result"
    }
   ],
   "source": [
    "from datasets import load_dataset\n",
    "from utils.rnn_model import *\n",
    "from utils.rnn_utils import *\n",
    "from dotenv import load_dotenv\n",
    "import os\n",
    "\n",
    "load_dotenv()"
   ]
  },
  {
   "cell_type": "code",
   "execution_count": 2,
   "metadata": {},
   "outputs": [],
   "source": [
    "dataset = load_dataset(\"rotten_tomatoes\")\n",
    "trn_dataset = dataset[\"train\"]\n",
    "val_dataset = dataset[\"validation\"]\n",
    "tst_dataset = dataset[\"test\"]"
   ]
  },
  {
   "cell_type": "code",
   "execution_count": 3,
   "metadata": {},
   "outputs": [],
   "source": [
    "# Obtain a list of unique words from the train set\n",
    "\n",
    "sentences = trn_dataset[\"text\"]\n",
    "words = []\n",
    "\n",
    "for i in range(len(sentences)):\n",
    "    sentences[i] = simple_preprocess(sentences[i])\n",
    "\n",
    "for sentence in sentences:\n",
    "    for word in sentence:\n",
    "        if word not in words:\n",
    "            words.append(word)\n",
    "\n",
    "# Pass it in to the load_word2vec function along w the relative filepath of the embedding file\n",
    "word2vec_model = load_word2vec(vocab=words, filepath=r\"data\\embedding_matrix_oov.npy\")"
   ]
  },
  {
   "cell_type": "code",
   "execution_count": 4,
   "metadata": {},
   "outputs": [],
   "source": [
    "word_index = {\n",
    "    word: i for i, word in enumerate(\n",
    "        word2vec_model.index_to_key\n",
    "    )\n",
    "}"
   ]
  },
  {
   "cell_type": "markdown",
   "metadata": {},
   "source": [
    "Dataloaders"
   ]
  },
  {
   "cell_type": "code",
   "execution_count": 5,
   "metadata": {},
   "outputs": [],
   "source": [
    "trn_sentences, trn_labels = prepare_data(\n",
    "    trn_dataset[\"text\"],\n",
    "    trn_dataset[\"label\"],\n",
    "    word_index=word_index\n",
    ")\n",
    "val_sentences, val_labels = prepare_data(\n",
    "    val_dataset[\"text\"],\n",
    "    val_dataset[\"label\"],\n",
    "    word_index=word_index\n",
    ")\n",
    "tst_sentences, tst_labels = prepare_data(\n",
    "    tst_dataset[\"text\"],\n",
    "    tst_dataset[\"label\"],\n",
    "    word_index=word_index\n",
    ")"
   ]
  },
  {
   "cell_type": "code",
   "execution_count": 6,
   "metadata": {},
   "outputs": [],
   "source": [
    "BATCH_SIZE = 32\n",
    "\n",
    "trn_dataloader = create_dataloader(\n",
    "    trn_sentences,\n",
    "    trn_labels,\n",
    "    BATCH_SIZE,\n",
    "    shuffle=True)\n",
    "val_dataloader = create_dataloader(\n",
    "    val_sentences,\n",
    "    val_labels,\n",
    "    BATCH_SIZE,\n",
    "    shuffle=False)\n",
    "tst_dataloader = create_dataloader(\n",
    "    tst_sentences,\n",
    "    tst_labels,\n",
    "    BATCH_SIZE,\n",
    "    shuffle=False)"
   ]
  },
  {
   "cell_type": "markdown",
   "metadata": {},
   "source": [
    "## Model"
   ]
  },
  {
   "cell_type": "code",
   "execution_count": 7,
   "metadata": {},
   "outputs": [],
   "source": [
    "model = CNNModel(\n",
    "    embedding_dim=300,\n",
    "    embedding_matrix=word2vec_model.vectors,\n",
    "    freeze_embeddings=False,  # Set to False to make embeddings trainable\n",
    ")"
   ]
  },
  {
   "cell_type": "code",
   "execution_count": 8,
   "metadata": {},
   "outputs": [],
   "source": [
    "import torch\n",
    "import torch.nn as nn\n",
    "import torch.optim as optim\n",
    "from tqdm import tqdm\n",
    "\n",
    "def train_cnn(\n",
    "    trn_dataloader,\n",
    "    val_dataloader,\n",
    "    optimizer,\n",
    "    version,\n",
    "    model_save_path,\n",
    "    model_type,\n",
    "    epochs=10,\n",
    "    criterion=nn.BCELoss(),\n",
    "    early_stopping_patience=5,\n",
    "    load_best_model_at_end=True\n",
    "):\n",
    "    \"\"\"\n",
    "    Train a CNN model using the provided training and validation dataloaders.\n",
    "    Args:\n",
    "        trn_dataloader (torch.utils.data.DataLoader): DataLoader for the training data.\n",
    "        val_dataloader (torch.utils.data.DataLoader): DataLoader for the validation data.\n",
    "        optimizer (torch.optim.Optimizer): Optimizer for updating the model parameters.\n",
    "        version (str): Version identifier for saving the model.\n",
    "        model_save_path (str): Path to save the trained model.\n",
    "        model_type (str): Type of the model, used in the filename when saving.\n",
    "        epochs (int, optional): Number of epochs to train the model. Default is 10.\n",
    "        criterion (torch.nn.Module, optional): Loss function. Default is nn.BCELoss().\n",
    "        early_stopping_patience (int, optional): Number of epochs with no improvement \n",
    "                                                 after which training will be stopped. Default is 5.\n",
    "        load_best_model_at_end (bool, optional): Whether to load the best model at the end of training. Default is True.\n",
    "    Returns:\n",
    "        tuple: A tuple containing:\n",
    "            - losses (list of float): List of loss values for each epoch.\n",
    "            - accuracies (list of float): List of accuracy values for each epoch.\n",
    "    \"\"\"\n",
    "    create_directory(model_save_path)\n",
    "    \n",
    "    train_losses = []\n",
    "    val_accuracies = []\n",
    "    best_accuracy = 0\n",
    "    patience_counter = 0  # Counter for early stopping\n",
    "\n",
    "    for epoch in range(epochs):\n",
    "        model.train()\n",
    "        total_loss = 0\n",
    "\n",
    "        # Training loop\n",
    "        for X_batch, y_batch in tqdm(trn_dataloader, desc=f\"Epoch {epoch + 1}/{epochs}\", unit=\"batch\"):\n",
    "            optimizer.zero_grad()\n",
    "\n",
    "            # Forward pass\n",
    "            outputs = model(X_batch)\n",
    "            loss = criterion(outputs, y_batch)\n",
    "            loss.backward()\n",
    "            optimizer.step()\n",
    "\n",
    "            total_loss += loss.item()\n",
    "\n",
    "        avg_loss = total_loss / len(trn_dataloader)\n",
    "        train_losses.append(avg_loss)\n",
    "\n",
    "        # Validation step\n",
    "        val_accuracy = validate(model, val_dataloader)\n",
    "        val_accuracies.append(val_accuracy)\n",
    "\n",
    "        print(f\"Epoch {epoch + 1}/{epochs}, Training Loss: {avg_loss:.4f}, Validation Accuracy: {val_accuracy:.4f}\")\n",
    "\n",
    "        # Save model if validation accuracy improves\n",
    "        if val_accuracy > best_accuracy:\n",
    "            best_accuracy = val_accuracy\n",
    "            patience_counter = 0  # Reset patience counter\n",
    "            filepath = f\"{model_save_path}{model_type}_v{version}.pth\"\n",
    "            save_model(model, filepath)\n",
    "        else:\n",
    "            patience_counter += 1\n",
    "\n",
    "        # Early stopping\n",
    "        if patience_counter >= early_stopping_patience:\n",
    "            print(f\"Early stopping triggered after {epoch + 1} epochs.\")\n",
    "            break\n",
    "\n",
    "    # Load the best model if specified\n",
    "    if load_best_model_at_end:\n",
    "        print(\"Training ended, loading best model...\")\n",
    "        load_model(model, filepath)\n",
    "\n",
    "    return train_losses, val_accuracies"
   ]
  },
  {
   "cell_type": "code",
   "execution_count": 9,
   "metadata": {},
   "outputs": [
    {
     "name": "stderr",
     "output_type": "stream",
     "text": [
      "Epoch 1/10: 100%|██████████| 267/267 [00:13<00:00, 20.39batch/s]\n"
     ]
    },
    {
     "name": "stdout",
     "output_type": "stream",
     "text": [
      "Accuracy: 0.5563\n",
      "Epoch 1/10, Training Loss: 0.6939, Validation Accuracy: 0.5563\n",
      "Model saved.\n"
     ]
    },
    {
     "name": "stderr",
     "output_type": "stream",
     "text": [
      "Epoch 2/10: 100%|██████████| 267/267 [00:18<00:00, 14.61batch/s]\n"
     ]
    },
    {
     "name": "stdout",
     "output_type": "stream",
     "text": [
      "Accuracy: 0.5675\n",
      "Epoch 2/10, Training Loss: 0.6675, Validation Accuracy: 0.5675\n",
      "Model saved.\n"
     ]
    },
    {
     "name": "stderr",
     "output_type": "stream",
     "text": [
      "Epoch 3/10: 100%|██████████| 267/267 [00:21<00:00, 12.14batch/s]\n"
     ]
    },
    {
     "name": "stdout",
     "output_type": "stream",
     "text": [
      "Accuracy: 0.5872\n",
      "Epoch 3/10, Training Loss: 0.6507, Validation Accuracy: 0.5872\n",
      "Model saved.\n"
     ]
    },
    {
     "name": "stderr",
     "output_type": "stream",
     "text": [
      "Epoch 4/10: 100%|██████████| 267/267 [00:19<00:00, 13.62batch/s]\n"
     ]
    },
    {
     "name": "stdout",
     "output_type": "stream",
     "text": [
      "Accuracy: 0.6051\n",
      "Epoch 4/10, Training Loss: 0.6291, Validation Accuracy: 0.6051\n",
      "Model saved.\n"
     ]
    },
    {
     "name": "stderr",
     "output_type": "stream",
     "text": [
      "Epoch 5/10: 100%|██████████| 267/267 [00:12<00:00, 20.78batch/s]\n"
     ]
    },
    {
     "name": "stdout",
     "output_type": "stream",
     "text": [
      "Accuracy: 0.6238\n",
      "Epoch 5/10, Training Loss: 0.6065, Validation Accuracy: 0.6238\n",
      "Model saved.\n"
     ]
    },
    {
     "name": "stderr",
     "output_type": "stream",
     "text": [
      "Epoch 6/10: 100%|██████████| 267/267 [00:12<00:00, 21.43batch/s]\n"
     ]
    },
    {
     "name": "stdout",
     "output_type": "stream",
     "text": [
      "Accuracy: 0.6417\n",
      "Epoch 6/10, Training Loss: 0.5802, Validation Accuracy: 0.6417\n",
      "Model saved.\n"
     ]
    },
    {
     "name": "stderr",
     "output_type": "stream",
     "text": [
      "Epoch 7/10: 100%|██████████| 267/267 [00:12<00:00, 21.56batch/s]\n"
     ]
    },
    {
     "name": "stdout",
     "output_type": "stream",
     "text": [
      "Accuracy: 0.6557\n",
      "Epoch 7/10, Training Loss: 0.5500, Validation Accuracy: 0.6557\n",
      "Model saved.\n"
     ]
    },
    {
     "name": "stderr",
     "output_type": "stream",
     "text": [
      "Epoch 8/10: 100%|██████████| 267/267 [00:13<00:00, 20.06batch/s]\n"
     ]
    },
    {
     "name": "stdout",
     "output_type": "stream",
     "text": [
      "Accuracy: 0.6585\n",
      "Epoch 8/10, Training Loss: 0.5144, Validation Accuracy: 0.6585\n",
      "Model saved.\n"
     ]
    },
    {
     "name": "stderr",
     "output_type": "stream",
     "text": [
      "Epoch 9/10: 100%|██████████| 267/267 [00:12<00:00, 21.44batch/s]\n"
     ]
    },
    {
     "name": "stdout",
     "output_type": "stream",
     "text": [
      "Accuracy: 0.6773\n",
      "Epoch 9/10, Training Loss: 0.4772, Validation Accuracy: 0.6773\n",
      "Model saved.\n"
     ]
    },
    {
     "name": "stderr",
     "output_type": "stream",
     "text": [
      "Epoch 10/10: 100%|██████████| 267/267 [00:12<00:00, 20.59batch/s]\n"
     ]
    },
    {
     "name": "stdout",
     "output_type": "stream",
     "text": [
      "Accuracy: 0.6961\n",
      "Epoch 10/10, Training Loss: 0.4355, Validation Accuracy: 0.6961\n",
      "Model saved.\n",
      "Training ended, loading best model...\n",
      "Model loaded.\n"
     ]
    }
   ],
   "source": [
    "train_losses, val_accuracies = train_cnn(\n",
    "    trn_dataloader=trn_dataloader,\n",
    "    val_dataloader=val_dataloader,\n",
    "    optimizer=torch.optim.Adam(model.parameters(), lr=0.0001),\n",
    "    version=\"1.0\",\n",
    "    model_save_path=\"./models/\",\n",
    "    model_type=\"cnn\",\n",
    "    epochs=10,\n",
    "    criterion=nn.BCELoss(),\n",
    "    early_stopping_patience=5,\n",
    "    load_best_model_at_end=True\n",
    ")\n"
   ]
  },
  {
   "cell_type": "code",
   "execution_count": 10,
   "metadata": {},
   "outputs": [
    {
     "data": {
      "image/png": "[encoded data removed]",
      "text/plain": [
       "<Figure size 1000x600 with 2 Axes>"
      ]
     },
     "metadata": {},
     "output_type": "display_data"
    }
   ],
   "source": [
    "plot_training_progress(train_losses, val_accuracies)"
   ]
  }
 ],
 "metadata": {
  "kernelspec": {
   "display_name": "Python 3",
   "language": "python",
   "name": "python3"
  },
  "language_info": {
   "codemirror_mode": {
    "name": "ipython",
    "version": 3
   },
   "file_extension": ".py",
   "mimetype": "text/x-python",
   "name": "python",
   "nbconvert_exporter": "python",
   "pygments_lexer": "ipython3",
   "version": "3.11.5"
  }
 },
 "nbformat": 4,
 "nbformat_minor": 2
}
