{
 "cells": [
  {
   "cell_type": "markdown",
   "metadata": {},
   "source": [
    "## Part 3.1\n",
    "Instead of keeping the word embeddings fixed, now update the word embeddings (the same\n",
    "way as model parameters) during the training process"
   ]
  },
  {
   "cell_type": "code",
   "execution_count": 1,
   "metadata": {},
   "outputs": [
    {
     "name": "stderr",
     "output_type": "stream",
     "text": [
      "[nltk_data] Downloading package punkt_tab to\n",
      "[nltk_data]     C:\\Users\\qkm20\\AppData\\Roaming\\nltk_data...\n",
      "[nltk_data]   Package punkt_tab is already up-to-date!\n",
      "[nltk_data] Downloading package wordnet to\n",
      "[nltk_data]     C:\\Users\\qkm20\\AppData\\Roaming\\nltk_data...\n",
      "[nltk_data]   Package wordnet is already up-to-date!\n",
      "[nltk_data] Downloading package omw-1.4 to\n",
      "[nltk_data]     C:\\Users\\qkm20\\AppData\\Roaming\\nltk_data...\n",
      "[nltk_data]   Package omw-1.4 is already up-to-date!\n"
     ]
    },
    {
     "data": {
      "text/plain": [
       "True"
      ]
     },
     "execution_count": 1,
     "metadata": {},
     "output_type": "execute_result"
    }
   ],
   "source": [
    "from datasets import load_dataset\n",
    "from utils.rnn_model import *\n",
    "from utils.rnn_utils import *\n",
    "from dotenv import load_dotenv\n",
    "import os\n",
    "\n",
    "load_dotenv()"
   ]
  },
  {
   "cell_type": "markdown",
   "metadata": {},
   "source": [
    "## Data Preparation"
   ]
  },
  {
   "cell_type": "code",
   "execution_count": 2,
   "metadata": {},
   "outputs": [],
   "source": [
    "BATCH_SIZE = 32\n",
    "LR = 0.0001\n",
    "MODEL_TYPE = \"rnn\""
   ]
  },
  {
   "cell_type": "code",
   "execution_count": 3,
   "metadata": {},
   "outputs": [],
   "source": [
    "dataset = load_dataset(\"rotten_tomatoes\")\n",
    "trn_dataset = dataset[\"train\"]\n",
    "val_dataset = dataset[\"validation\"]\n",
    "tst_dataset = dataset[\"test\"]"
   ]
  },
  {
   "cell_type": "code",
   "execution_count": 4,
   "metadata": {},
   "outputs": [],
   "source": [
    "sentences = trn_dataset[\"text\"]\n",
    "words = []\n",
    "\n",
    "for i in range(len(sentences)):\n",
    "    sentences[i] = simple_preprocess(sentences[i])\n",
    "\n",
    "for sentence in sentences:\n",
    "    for word in sentence:\n",
    "        if word not in words:\n",
    "            words.append(word)\n",
    "\n",
    "word2vec_model = load_word2vec(vocab=words, filepath=r\"data\\embedding_matrix_oov.npy\")"
   ]
  },
  {
   "cell_type": "code",
   "execution_count": 5,
   "metadata": {},
   "outputs": [],
   "source": [
    "word_index = {\n",
    "    word: i for i, word in enumerate(\n",
    "        word2vec_model.index_to_key\n",
    "    )\n",
    "}"
   ]
  },
  {
   "cell_type": "code",
   "execution_count": 6,
   "metadata": {},
   "outputs": [],
   "source": [
    "trn_sentences, trn_labels = prepare_data(\n",
    "    trn_dataset[\"text\"],\n",
    "    trn_dataset[\"label\"],\n",
    "    word_index=word_index\n",
    ")\n",
    "val_sentences, val_labels = prepare_data(\n",
    "    val_dataset[\"text\"],\n",
    "    val_dataset[\"label\"],\n",
    "    word_index=word_index\n",
    ")\n",
    "tst_sentences, tst_labels = prepare_data(\n",
    "    tst_dataset[\"text\"],\n",
    "    tst_dataset[\"label\"],\n",
    "    word_index=word_index\n",
    ")"
   ]
  },
  {
   "cell_type": "code",
   "execution_count": 7,
   "metadata": {},
   "outputs": [],
   "source": [
    "trn_dataloader = create_dataloader(\n",
    "    trn_sentences,\n",
    "    trn_labels,\n",
    "    BATCH_SIZE,\n",
    "    shuffle=True)\n",
    "val_dataloader = create_dataloader(\n",
    "    val_sentences,\n",
    "    val_labels,\n",
    "    BATCH_SIZE,\n",
    "    shuffle=False)\n",
    "tst_dataloader = create_dataloader(\n",
    "    tst_sentences,\n",
    "    tst_labels,\n",
    "    BATCH_SIZE,\n",
    "    shuffle=False)"
   ]
  },
  {
   "cell_type": "markdown",
   "metadata": {},
   "source": [
    "## Train the Model"
   ]
  },
  {
   "cell_type": "code",
   "execution_count": 8,
   "metadata": {},
   "outputs": [],
   "source": [
    "## Use the best out of the 4 models from part 4\n",
    "\n",
    "model = RNNModel(\n",
    "    embedding_dim=300,\n",
    "    hidden_size=128,\n",
    "    embedding_matrix=word2vec_model.vectors,\n",
    "    rnn_type=MODEL_TYPE,\n",
    "    freeze_embeddings=False,  # Set to False to make embeddings trainable\n",
    "    bidirectional=False,\n",
    "    num_layers=1,\n",
    ")"
   ]
  },
  {
   "cell_type": "code",
   "execution_count": 9,
   "metadata": {},
   "outputs": [
    {
     "name": "stdout",
     "output_type": "stream",
     "text": [
      "Epoch   1/100, Loss: 0.6983, Accuracy: 0.4690\n",
      "Model saved.\n",
      "Epoch   2/100, Loss: 0.6925, Accuracy: 0.4831\n",
      "Model saved.\n",
      "Epoch   3/100, Loss: 0.6883, Accuracy: 0.4916\n",
      "Model saved.\n",
      "Epoch   4/100, Loss: 0.6770, Accuracy: 0.5450\n",
      "Model saved.\n",
      "Epoch   5/100, Loss: 0.6231, Accuracy: 0.6285\n",
      "Model saved.\n",
      "Epoch   6/100, Loss: 0.5187, Accuracy: 0.6745\n",
      "Model saved.\n",
      "Epoch   7/100, Loss: 0.4253, Accuracy: 0.6839\n",
      "Model saved.\n",
      "Epoch   8/100, Loss: 0.3500, Accuracy: 0.6839\n",
      "Epoch   9/100, Loss: 0.2900, Accuracy: 0.6895\n",
      "Model saved.\n",
      "Epoch  10/100, Loss: 0.2354, Accuracy: 0.6923\n",
      "Model saved.\n",
      "Epoch  11/100, Loss: 0.1961, Accuracy: 0.7036\n",
      "Model saved.\n",
      "Epoch  12/100, Loss: 0.1590, Accuracy: 0.6942\n",
      "Epoch  13/100, Loss: 0.1332, Accuracy: 0.6970\n",
      "Epoch  14/100, Loss: 0.1055, Accuracy: 0.6914\n",
      "Epoch  15/100, Loss: 0.0857, Accuracy: 0.7083\n",
      "Model saved.\n",
      "Epoch  16/100, Loss: 0.0665, Accuracy: 0.6970\n",
      "Epoch  17/100, Loss: 0.0541, Accuracy: 0.7045\n",
      "Epoch  18/100, Loss: 0.0485, Accuracy: 0.6904\n",
      "Epoch  19/100, Loss: 0.0393, Accuracy: 0.7026\n",
      "Epoch  20/100, Loss: 0.0294, Accuracy: 0.7111\n",
      "Model saved.\n",
      "Epoch  21/100, Loss: 0.0259, Accuracy: 0.6811\n",
      "Epoch  22/100, Loss: 0.0203, Accuracy: 0.6998\n",
      "Epoch  23/100, Loss: 0.0131, Accuracy: 0.6876\n",
      "Epoch  24/100, Loss: 0.0091, Accuracy: 0.6961\n",
      "Epoch  25/100, Loss: 0.0146, Accuracy: 0.6979\n",
      "Epoch  26/100, Loss: 0.0160, Accuracy: 0.6914\n",
      "Epoch  27/100, Loss: 0.0083, Accuracy: 0.6914\n",
      "Epoch  28/100, Loss: 0.0082, Accuracy: 0.6914\n",
      "Epoch  29/100, Loss: 0.0029, Accuracy: 0.6979\n",
      "Epoch  30/100, Loss: 0.0142, Accuracy: 0.6867\n",
      "Early stopping triggered after 30 epochs.\n",
      "Training ended, loading best model...\n",
      "Model loaded.\n"
     ]
    }
   ],
   "source": [
    "losses, accuracies = train(\n",
    "    model=model,\n",
    "    trn_dataloader=trn_dataloader,\n",
    "    val_dataloader=val_dataloader,\n",
    "    version=\"2\",\n",
    "    model_type=MODEL_TYPE,\n",
    "    model_save_path=os.getenv(\"MODEL_SAVE_PATH\", \"modelfiles/\"),\n",
    "    optimizer=torch.optim.Adam(model.parameters(), lr=LR),\n",
    "    epochs=100,\n",
    "    early_stopping_patience=10,\n",
    "    train_mode=\"last_state\"\n",
    ")"
   ]
  },
  {
   "cell_type": "code",
   "execution_count": 10,
   "metadata": {},
   "outputs": [
    {
     "name": "stdout",
     "output_type": "stream",
     "text": [
      "Accuracy: 0.7111\n"
     ]
    }
   ],
   "source": [
    "val_accuracy = validate(model, val_dataloader)"
   ]
  },
  {
   "cell_type": "code",
   "execution_count": 11,
   "metadata": {},
   "outputs": [
    {
     "name": "stdout",
     "output_type": "stream",
     "text": [
      "Accuracy: 0.7073\n"
     ]
    }
   ],
   "source": [
    "tst_accuracy = validate(model, tst_dataloader)"
   ]
  },
  {
   "cell_type": "code",
   "execution_count": 12,
   "metadata": {},
   "outputs": [
    {
     "data": {
      "image/png": "[encoded data removed]",
      "text/plain": [
       "<Figure size 1000x500 with 1 Axes>"
      ]
     },
     "metadata": {},
     "output_type": "display_data"
    }
   ],
   "source": [
    "plot_loss_accuracy(losses, accuracies)"
   ]
  },
  {
   "cell_type": "code",
   "execution_count": 13,
   "metadata": {},
   "outputs": [
    {
     "name": "stdout",
     "output_type": "stream",
     "text": [
      "Embeddings saved.\n"
     ]
    }
   ],
   "source": [
    "save_embeddings(word_index, word2vec_model, \"data/trained_embedding_matrix_Q3P1.npy\")"
   ]
  }
 ],
 "metadata": {
  "kernelspec": {
   "display_name": "sc4002",
   "language": "python",
   "name": "python3"
  },
  "language_info": {
   "codemirror_mode": {
    "name": "ipython",
    "version": 3
   },
   "file_extension": ".py",
   "mimetype": "text/x-python",
   "name": "python",
   "nbconvert_exporter": "python",
   "pygments_lexer": "ipython3",
   "version": "3.12.7"
  }
 },
 "nbformat": 4,
 "nbformat_minor": 2
}
