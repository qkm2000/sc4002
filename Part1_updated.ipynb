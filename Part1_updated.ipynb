{
  "cells": [
    {
      "cell_type": "markdown",
      "metadata": {
        "id": "3403hAgx5PWP"
      },
      "source": [
        "# Part 0"
      ]
    },
    {
      "cell_type": "code",
      "source": [
        "from datasets import load_dataset\n",
        "dataset = load_dataset(\"rotten_tomatoes\")\n",
        "train_dataset = dataset[\"train\"]\n",
        "validation_dataset = dataset[\"validation\"]\n",
        "test_dataset = dataset[\"test\"]"
      ],
      "metadata": {
        "id": "uM7UASZ76CVg"
      },
      "execution_count": null,
      "outputs": []
    },
    {
      "cell_type": "code",
      "execution_count": 3,
      "metadata": {
        "id": "fG3k7ip7x6WN"
      },
      "outputs": [],
      "source": [
        "# convert datasets to pandas dataframe\n",
        "train_df = train_dataset.to_pandas()\n",
        "validation_df = validation_dataset.to_pandas()\n",
        "test_df = test_dataset.to_pandas()"
      ]
    },
    {
      "cell_type": "code",
      "execution_count": 4,
      "metadata": {
        "id": "P32G2m4vxvXc"
      },
      "outputs": [],
      "source": [
        "import gensim.downloader\n",
        "from gensim.models import Word2Vec\n",
        "from gensim.utils import simple_preprocess\n",
        "import numpy as np"
      ]
    },
    {
      "cell_type": "code",
      "execution_count": 5,
      "metadata": {
        "colab": {
          "base_uri": "https://localhost:8080/",
          "height": 206
        },
        "id": "_rIz8W9KyBtJ",
        "outputId": "07077b6f-ebc8-4dcf-d618-77cb6fb642c6"
      },
      "outputs": [
        {
          "output_type": "execute_result",
          "data": {
            "text/plain": [
              "                                                text  label\n",
              "0  the rock is destined to be the 21st century's ...      1\n",
              "1  the gorgeously elaborate continuation of \" the...      1\n",
              "2                     effective but too-tepid biopic      1\n",
              "3  if you sometimes like to go to the movies to h...      1\n",
              "4  emerges as something rare , an issue movie tha...      1"
            ],
            "text/html": [
              "\n",
              "  <div id=\"df-60ede91f-a832-4795-a7ed-9516f130593f\" class=\"colab-df-container\">\n",
              "    <div>\n",
              "<style scoped>\n",
              "    .dataframe tbody tr th:only-of-type {\n",
              "        vertical-align: middle;\n",
              "    }\n",
              "\n",
              "    .dataframe tbody tr th {\n",
              "        vertical-align: top;\n",
              "    }\n",
              "\n",
              "    .dataframe thead th {\n",
              "        text-align: right;\n",
              "    }\n",
              "</style>\n",
              "<table border=\"1\" class=\"dataframe\">\n",
              "  <thead>\n",
              "    <tr style=\"text-align: right;\">\n",
              "      <th></th>\n",
              "      <th>text</th>\n",
              "      <th>label</th>\n",
              "    </tr>\n",
              "  </thead>\n",
              "  <tbody>\n",
              "    <tr>\n",
              "      <th>0</th>\n",
              "      <td>the rock is destined to be the 21st century's ...</td>\n",
              "      <td>1</td>\n",
              "    </tr>\n",
              "    <tr>\n",
              "      <th>1</th>\n",
              "      <td>the gorgeously elaborate continuation of \" the...</td>\n",
              "      <td>1</td>\n",
              "    </tr>\n",
              "    <tr>\n",
              "      <th>2</th>\n",
              "      <td>effective but too-tepid biopic</td>\n",
              "      <td>1</td>\n",
              "    </tr>\n",
              "    <tr>\n",
              "      <th>3</th>\n",
              "      <td>if you sometimes like to go to the movies to h...</td>\n",
              "      <td>1</td>\n",
              "    </tr>\n",
              "    <tr>\n",
              "      <th>4</th>\n",
              "      <td>emerges as something rare , an issue movie tha...</td>\n",
              "      <td>1</td>\n",
              "    </tr>\n",
              "  </tbody>\n",
              "</table>\n",
              "</div>\n",
              "    <div class=\"colab-df-buttons\">\n",
              "\n",
              "  <div class=\"colab-df-container\">\n",
              "    <button class=\"colab-df-convert\" onclick=\"convertToInteractive('df-60ede91f-a832-4795-a7ed-9516f130593f')\"\n",
              "            title=\"Convert this dataframe to an interactive table.\"\n",
              "            style=\"display:none;\">\n",
              "\n",
              "  <svg xmlns=\"http://www.w3.org/2000/svg\" height=\"24px\" viewBox=\"0 -960 960 960\">\n",
              "    <path d=\"M120-120v-720h720v720H120Zm60-500h600v-160H180v160Zm220 220h160v-160H400v160Zm0 220h160v-160H400v160ZM180-400h160v-160H180v160Zm440 0h160v-160H620v160ZM180-180h160v-160H180v160Zm440 0h160v-160H620v160Z\"/>\n",
              "  </svg>\n",
              "    </button>\n",
              "\n",
              "  <style>\n",
              "    .colab-df-container {\n",
              "      display:flex;\n",
              "      gap: 12px;\n",
              "    }\n",
              "\n",
              "    .colab-df-convert {\n",
              "      background-color: #E8F0FE;\n",
              "      border: none;\n",
              "      border-radius: 50%;\n",
              "      cursor: pointer;\n",
              "      display: none;\n",
              "      fill: #1967D2;\n",
              "      height: 32px;\n",
              "      padding: 0 0 0 0;\n",
              "      width: 32px;\n",
              "    }\n",
              "\n",
              "    .colab-df-convert:hover {\n",
              "      background-color: #E2EBFA;\n",
              "      box-shadow: 0px 1px 2px rgba(60, 64, 67, 0.3), 0px 1px 3px 1px rgba(60, 64, 67, 0.15);\n",
              "      fill: #174EA6;\n",
              "    }\n",
              "\n",
              "    .colab-df-buttons div {\n",
              "      margin-bottom: 4px;\n",
              "    }\n",
              "\n",
              "    [theme=dark] .colab-df-convert {\n",
              "      background-color: #3B4455;\n",
              "      fill: #D2E3FC;\n",
              "    }\n",
              "\n",
              "    [theme=dark] .colab-df-convert:hover {\n",
              "      background-color: #434B5C;\n",
              "      box-shadow: 0px 1px 3px 1px rgba(0, 0, 0, 0.15);\n",
              "      filter: drop-shadow(0px 1px 2px rgba(0, 0, 0, 0.3));\n",
              "      fill: #FFFFFF;\n",
              "    }\n",
              "  </style>\n",
              "\n",
              "    <script>\n",
              "      const buttonEl =\n",
              "        document.querySelector('#df-60ede91f-a832-4795-a7ed-9516f130593f button.colab-df-convert');\n",
              "      buttonEl.style.display =\n",
              "        google.colab.kernel.accessAllowed ? 'block' : 'none';\n",
              "\n",
              "      async function convertToInteractive(key) {\n",
              "        const element = document.querySelector('#df-60ede91f-a832-4795-a7ed-9516f130593f');\n",
              "        const dataTable =\n",
              "          await google.colab.kernel.invokeFunction('convertToInteractive',\n",
              "                                                    [key], {});\n",
              "        if (!dataTable) return;\n",
              "\n",
              "        const docLinkHtml = 'Like what you see? Visit the ' +\n",
              "          '<a target=\"_blank\" href=https://colab.research.google.com/notebooks/data_table.ipynb>data table notebook</a>'\n",
              "          + ' to learn more about interactive tables.';\n",
              "        element.innerHTML = '';\n",
              "        dataTable['output_type'] = 'display_data';\n",
              "        await google.colab.output.renderOutput(dataTable, element);\n",
              "        const docLink = document.createElement('div');\n",
              "        docLink.innerHTML = docLinkHtml;\n",
              "        element.appendChild(docLink);\n",
              "      }\n",
              "    </script>\n",
              "  </div>\n",
              "\n",
              "\n",
              "<div id=\"df-01f63386-b33f-44a9-a658-afaeab47a723\">\n",
              "  <button class=\"colab-df-quickchart\" onclick=\"quickchart('df-01f63386-b33f-44a9-a658-afaeab47a723')\"\n",
              "            title=\"Suggest charts\"\n",
              "            style=\"display:none;\">\n",
              "\n",
              "<svg xmlns=\"http://www.w3.org/2000/svg\" height=\"24px\"viewBox=\"0 0 24 24\"\n",
              "     width=\"24px\">\n",
              "    <g>\n",
              "        <path d=\"M19 3H5c-1.1 0-2 .9-2 2v14c0 1.1.9 2 2 2h14c1.1 0 2-.9 2-2V5c0-1.1-.9-2-2-2zM9 17H7v-7h2v7zm4 0h-2V7h2v10zm4 0h-2v-4h2v4z\"/>\n",
              "    </g>\n",
              "</svg>\n",
              "  </button>\n",
              "\n",
              "<style>\n",
              "  .colab-df-quickchart {\n",
              "      --bg-color: #E8F0FE;\n",
              "      --fill-color: #1967D2;\n",
              "      --hover-bg-color: #E2EBFA;\n",
              "      --hover-fill-color: #174EA6;\n",
              "      --disabled-fill-color: #AAA;\n",
              "      --disabled-bg-color: #DDD;\n",
              "  }\n",
              "\n",
              "  [theme=dark] .colab-df-quickchart {\n",
              "      --bg-color: #3B4455;\n",
              "      --fill-color: #D2E3FC;\n",
              "      --hover-bg-color: #434B5C;\n",
              "      --hover-fill-color: #FFFFFF;\n",
              "      --disabled-bg-color: #3B4455;\n",
              "      --disabled-fill-color: #666;\n",
              "  }\n",
              "\n",
              "  .colab-df-quickchart {\n",
              "    background-color: var(--bg-color);\n",
              "    border: none;\n",
              "    border-radius: 50%;\n",
              "    cursor: pointer;\n",
              "    display: none;\n",
              "    fill: var(--fill-color);\n",
              "    height: 32px;\n",
              "    padding: 0;\n",
              "    width: 32px;\n",
              "  }\n",
              "\n",
              "  .colab-df-quickchart:hover {\n",
              "    background-color: var(--hover-bg-color);\n",
              "    box-shadow: 0 1px 2px rgba(60, 64, 67, 0.3), 0 1px 3px 1px rgba(60, 64, 67, 0.15);\n",
              "    fill: var(--button-hover-fill-color);\n",
              "  }\n",
              "\n",
              "  .colab-df-quickchart-complete:disabled,\n",
              "  .colab-df-quickchart-complete:disabled:hover {\n",
              "    background-color: var(--disabled-bg-color);\n",
              "    fill: var(--disabled-fill-color);\n",
              "    box-shadow: none;\n",
              "  }\n",
              "\n",
              "  .colab-df-spinner {\n",
              "    border: 2px solid var(--fill-color);\n",
              "    border-color: transparent;\n",
              "    border-bottom-color: var(--fill-color);\n",
              "    animation:\n",
              "      spin 1s steps(1) infinite;\n",
              "  }\n",
              "\n",
              "  @keyframes spin {\n",
              "    0% {\n",
              "      border-color: transparent;\n",
              "      border-bottom-color: var(--fill-color);\n",
              "      border-left-color: var(--fill-color);\n",
              "    }\n",
              "    20% {\n",
              "      border-color: transparent;\n",
              "      border-left-color: var(--fill-color);\n",
              "      border-top-color: var(--fill-color);\n",
              "    }\n",
              "    30% {\n",
              "      border-color: transparent;\n",
              "      border-left-color: var(--fill-color);\n",
              "      border-top-color: var(--fill-color);\n",
              "      border-right-color: var(--fill-color);\n",
              "    }\n",
              "    40% {\n",
              "      border-color: transparent;\n",
              "      border-right-color: var(--fill-color);\n",
              "      border-top-color: var(--fill-color);\n",
              "    }\n",
              "    60% {\n",
              "      border-color: transparent;\n",
              "      border-right-color: var(--fill-color);\n",
              "    }\n",
              "    80% {\n",
              "      border-color: transparent;\n",
              "      border-right-color: var(--fill-color);\n",
              "      border-bottom-color: var(--fill-color);\n",
              "    }\n",
              "    90% {\n",
              "      border-color: transparent;\n",
              "      border-bottom-color: var(--fill-color);\n",
              "    }\n",
              "  }\n",
              "</style>\n",
              "\n",
              "  <script>\n",
              "    async function quickchart(key) {\n",
              "      const quickchartButtonEl =\n",
              "        document.querySelector('#' + key + ' button');\n",
              "      quickchartButtonEl.disabled = true;  // To prevent multiple clicks.\n",
              "      quickchartButtonEl.classList.add('colab-df-spinner');\n",
              "      try {\n",
              "        const charts = await google.colab.kernel.invokeFunction(\n",
              "            'suggestCharts', [key], {});\n",
              "      } catch (error) {\n",
              "        console.error('Error during call to suggestCharts:', error);\n",
              "      }\n",
              "      quickchartButtonEl.classList.remove('colab-df-spinner');\n",
              "      quickchartButtonEl.classList.add('colab-df-quickchart-complete');\n",
              "    }\n",
              "    (() => {\n",
              "      let quickchartButtonEl =\n",
              "        document.querySelector('#df-01f63386-b33f-44a9-a658-afaeab47a723 button');\n",
              "      quickchartButtonEl.style.display =\n",
              "        google.colab.kernel.accessAllowed ? 'block' : 'none';\n",
              "    })();\n",
              "  </script>\n",
              "</div>\n",
              "\n",
              "    </div>\n",
              "  </div>\n"
            ],
            "application/vnd.google.colaboratory.intrinsic+json": {
              "type": "dataframe",
              "variable_name": "train_df",
              "summary": "{\n  \"name\": \"train_df\",\n  \"rows\": 8530,\n  \"fields\": [\n    {\n      \"column\": \"text\",\n      \"properties\": {\n        \"dtype\": \"string\",\n        \"num_unique_values\": 8530,\n        \"samples\": [\n          \"it would take a complete moron to foul up a screen adaptation of oscar wilde's classic satire .\",\n          \"so we got ten little indians meets friday the 13th by way of clean and sober , filmed on the set of carpenter's the thing and loaded with actors you're most likely to find on the next inevitable incarnation of the love boat .\",\n          \"unfortunately , heartbreak hospital wants to convey the same kind of haughtiness in its own sketchy material but this territory has already been explored previously with better aplomb and sardonic wit .\"\n        ],\n        \"semantic_type\": \"\",\n        \"description\": \"\"\n      }\n    },\n    {\n      \"column\": \"label\",\n      \"properties\": {\n        \"dtype\": \"number\",\n        \"std\": 0,\n        \"min\": 0,\n        \"max\": 1,\n        \"num_unique_values\": 2,\n        \"samples\": [\n          0,\n          1\n        ],\n        \"semantic_type\": \"\",\n        \"description\": \"\"\n      }\n    }\n  ]\n}"
            }
          },
          "metadata": {},
          "execution_count": 5
        }
      ],
      "source": [
        "train_df.head()"
      ]
    },
    {
      "cell_type": "markdown",
      "metadata": {
        "id": "aPkHNRnYyfaQ"
      },
      "source": [
        "The `simple_preprocess` function from `gensim.utils` package makes cleaning and tokenizing text easier with standard text pre-processing procedures like converting text to lowercase, eliminating punctuation, and splitting text into individual words."
      ]
    },
    {
      "cell_type": "code",
      "execution_count": 6,
      "metadata": {
        "colab": {
          "base_uri": "https://localhost:8080/"
        },
        "id": "COW_Dqc5zMJF",
        "outputId": "0d2b3c61-c5d1-4a4d-8581-625c26b889d7"
      },
      "outputs": [
        {
          "output_type": "stream",
          "name": "stdout",
          "text": [
            "['the', 'gorgeously', 'elaborate', 'continuation', 'of', 'the', 'lord', 'of', 'the', 'rings', 'trilogy', 'is', 'so', 'huge', 'that', 'column', 'of', 'words', 'cannot', 'adequately', 'describe', 'co', 'writer', 'director', 'peter', 'jackson', 'expanded', 'vision', 'of', 'tolkien', 'middle', 'earth']\n"
          ]
        }
      ],
      "source": [
        "# view on an example from train df\n",
        "print(simple_preprocess(train_df.text[1]))"
      ]
    },
    {
      "cell_type": "code",
      "execution_count": 7,
      "metadata": {
        "id": "rIQa9KIhyEgo"
      },
      "outputs": [],
      "source": [
        "# apply gensim utils simple preprocess to tokenize the text in all datasets\n",
        "train_df[\"tokens\"] = train_df[\"text\"].apply(simple_preprocess)\n",
        "validation_df[\"tokens\"] = validation_df[\"text\"].apply(simple_preprocess)\n",
        "test_df[\"tokens\"] = test_df[\"text\"].apply(simple_preprocess)"
      ]
    },
    {
      "cell_type": "code",
      "execution_count": 8,
      "metadata": {
        "colab": {
          "base_uri": "https://localhost:8080/",
          "height": 206
        },
        "id": "e5dJWH7Zz_ju",
        "outputId": "52b034d2-3d46-4d8b-84a6-72cf5e4d797c"
      },
      "outputs": [
        {
          "output_type": "execute_result",
          "data": {
            "text/plain": [
              "                                                text  label  \\\n",
              "0  the rock is destined to be the 21st century's ...      1   \n",
              "1  the gorgeously elaborate continuation of \" the...      1   \n",
              "2                     effective but too-tepid biopic      1   \n",
              "3  if you sometimes like to go to the movies to h...      1   \n",
              "4  emerges as something rare , an issue movie tha...      1   \n",
              "\n",
              "                                              tokens  \n",
              "0  [the, rock, is, destined, to, be, the, st, cen...  \n",
              "1  [the, gorgeously, elaborate, continuation, of,...  \n",
              "2               [effective, but, too, tepid, biopic]  \n",
              "3  [if, you, sometimes, like, to, go, to, the, mo...  \n",
              "4  [emerges, as, something, rare, an, issue, movi...  "
            ],
            "text/html": [
              "\n",
              "  <div id=\"df-79f71225-e688-4563-9ac7-93c8706c6c2f\" class=\"colab-df-container\">\n",
              "    <div>\n",
              "<style scoped>\n",
              "    .dataframe tbody tr th:only-of-type {\n",
              "        vertical-align: middle;\n",
              "    }\n",
              "\n",
              "    .dataframe tbody tr th {\n",
              "        vertical-align: top;\n",
              "    }\n",
              "\n",
              "    .dataframe thead th {\n",
              "        text-align: right;\n",
              "    }\n",
              "</style>\n",
              "<table border=\"1\" class=\"dataframe\">\n",
              "  <thead>\n",
              "    <tr style=\"text-align: right;\">\n",
              "      <th></th>\n",
              "      <th>text</th>\n",
              "      <th>label</th>\n",
              "      <th>tokens</th>\n",
              "    </tr>\n",
              "  </thead>\n",
              "  <tbody>\n",
              "    <tr>\n",
              "      <th>0</th>\n",
              "      <td>the rock is destined to be the 21st century's ...</td>\n",
              "      <td>1</td>\n",
              "      <td>[the, rock, is, destined, to, be, the, st, cen...</td>\n",
              "    </tr>\n",
              "    <tr>\n",
              "      <th>1</th>\n",
              "      <td>the gorgeously elaborate continuation of \" the...</td>\n",
              "      <td>1</td>\n",
              "      <td>[the, gorgeously, elaborate, continuation, of,...</td>\n",
              "    </tr>\n",
              "    <tr>\n",
              "      <th>2</th>\n",
              "      <td>effective but too-tepid biopic</td>\n",
              "      <td>1</td>\n",
              "      <td>[effective, but, too, tepid, biopic]</td>\n",
              "    </tr>\n",
              "    <tr>\n",
              "      <th>3</th>\n",
              "      <td>if you sometimes like to go to the movies to h...</td>\n",
              "      <td>1</td>\n",
              "      <td>[if, you, sometimes, like, to, go, to, the, mo...</td>\n",
              "    </tr>\n",
              "    <tr>\n",
              "      <th>4</th>\n",
              "      <td>emerges as something rare , an issue movie tha...</td>\n",
              "      <td>1</td>\n",
              "      <td>[emerges, as, something, rare, an, issue, movi...</td>\n",
              "    </tr>\n",
              "  </tbody>\n",
              "</table>\n",
              "</div>\n",
              "    <div class=\"colab-df-buttons\">\n",
              "\n",
              "  <div class=\"colab-df-container\">\n",
              "    <button class=\"colab-df-convert\" onclick=\"convertToInteractive('df-79f71225-e688-4563-9ac7-93c8706c6c2f')\"\n",
              "            title=\"Convert this dataframe to an interactive table.\"\n",
              "            style=\"display:none;\">\n",
              "\n",
              "  <svg xmlns=\"http://www.w3.org/2000/svg\" height=\"24px\" viewBox=\"0 -960 960 960\">\n",
              "    <path d=\"M120-120v-720h720v720H120Zm60-500h600v-160H180v160Zm220 220h160v-160H400v160Zm0 220h160v-160H400v160ZM180-400h160v-160H180v160Zm440 0h160v-160H620v160ZM180-180h160v-160H180v160Zm440 0h160v-160H620v160Z\"/>\n",
              "  </svg>\n",
              "    </button>\n",
              "\n",
              "  <style>\n",
              "    .colab-df-container {\n",
              "      display:flex;\n",
              "      gap: 12px;\n",
              "    }\n",
              "\n",
              "    .colab-df-convert {\n",
              "      background-color: #E8F0FE;\n",
              "      border: none;\n",
              "      border-radius: 50%;\n",
              "      cursor: pointer;\n",
              "      display: none;\n",
              "      fill: #1967D2;\n",
              "      height: 32px;\n",
              "      padding: 0 0 0 0;\n",
              "      width: 32px;\n",
              "    }\n",
              "\n",
              "    .colab-df-convert:hover {\n",
              "      background-color: #E2EBFA;\n",
              "      box-shadow: 0px 1px 2px rgba(60, 64, 67, 0.3), 0px 1px 3px 1px rgba(60, 64, 67, 0.15);\n",
              "      fill: #174EA6;\n",
              "    }\n",
              "\n",
              "    .colab-df-buttons div {\n",
              "      margin-bottom: 4px;\n",
              "    }\n",
              "\n",
              "    [theme=dark] .colab-df-convert {\n",
              "      background-color: #3B4455;\n",
              "      fill: #D2E3FC;\n",
              "    }\n",
              "\n",
              "    [theme=dark] .colab-df-convert:hover {\n",
              "      background-color: #434B5C;\n",
              "      box-shadow: 0px 1px 3px 1px rgba(0, 0, 0, 0.15);\n",
              "      filter: drop-shadow(0px 1px 2px rgba(0, 0, 0, 0.3));\n",
              "      fill: #FFFFFF;\n",
              "    }\n",
              "  </style>\n",
              "\n",
              "    <script>\n",
              "      const buttonEl =\n",
              "        document.querySelector('#df-79f71225-e688-4563-9ac7-93c8706c6c2f button.colab-df-convert');\n",
              "      buttonEl.style.display =\n",
              "        google.colab.kernel.accessAllowed ? 'block' : 'none';\n",
              "\n",
              "      async function convertToInteractive(key) {\n",
              "        const element = document.querySelector('#df-79f71225-e688-4563-9ac7-93c8706c6c2f');\n",
              "        const dataTable =\n",
              "          await google.colab.kernel.invokeFunction('convertToInteractive',\n",
              "                                                    [key], {});\n",
              "        if (!dataTable) return;\n",
              "\n",
              "        const docLinkHtml = 'Like what you see? Visit the ' +\n",
              "          '<a target=\"_blank\" href=https://colab.research.google.com/notebooks/data_table.ipynb>data table notebook</a>'\n",
              "          + ' to learn more about interactive tables.';\n",
              "        element.innerHTML = '';\n",
              "        dataTable['output_type'] = 'display_data';\n",
              "        await google.colab.output.renderOutput(dataTable, element);\n",
              "        const docLink = document.createElement('div');\n",
              "        docLink.innerHTML = docLinkHtml;\n",
              "        element.appendChild(docLink);\n",
              "      }\n",
              "    </script>\n",
              "  </div>\n",
              "\n",
              "\n",
              "<div id=\"df-f1b8b5da-3eac-4658-9d01-262a1e43de06\">\n",
              "  <button class=\"colab-df-quickchart\" onclick=\"quickchart('df-f1b8b5da-3eac-4658-9d01-262a1e43de06')\"\n",
              "            title=\"Suggest charts\"\n",
              "            style=\"display:none;\">\n",
              "\n",
              "<svg xmlns=\"http://www.w3.org/2000/svg\" height=\"24px\"viewBox=\"0 0 24 24\"\n",
              "     width=\"24px\">\n",
              "    <g>\n",
              "        <path d=\"M19 3H5c-1.1 0-2 .9-2 2v14c0 1.1.9 2 2 2h14c1.1 0 2-.9 2-2V5c0-1.1-.9-2-2-2zM9 17H7v-7h2v7zm4 0h-2V7h2v10zm4 0h-2v-4h2v4z\"/>\n",
              "    </g>\n",
              "</svg>\n",
              "  </button>\n",
              "\n",
              "<style>\n",
              "  .colab-df-quickchart {\n",
              "      --bg-color: #E8F0FE;\n",
              "      --fill-color: #1967D2;\n",
              "      --hover-bg-color: #E2EBFA;\n",
              "      --hover-fill-color: #174EA6;\n",
              "      --disabled-fill-color: #AAA;\n",
              "      --disabled-bg-color: #DDD;\n",
              "  }\n",
              "\n",
              "  [theme=dark] .colab-df-quickchart {\n",
              "      --bg-color: #3B4455;\n",
              "      --fill-color: #D2E3FC;\n",
              "      --hover-bg-color: #434B5C;\n",
              "      --hover-fill-color: #FFFFFF;\n",
              "      --disabled-bg-color: #3B4455;\n",
              "      --disabled-fill-color: #666;\n",
              "  }\n",
              "\n",
              "  .colab-df-quickchart {\n",
              "    background-color: var(--bg-color);\n",
              "    border: none;\n",
              "    border-radius: 50%;\n",
              "    cursor: pointer;\n",
              "    display: none;\n",
              "    fill: var(--fill-color);\n",
              "    height: 32px;\n",
              "    padding: 0;\n",
              "    width: 32px;\n",
              "  }\n",
              "\n",
              "  .colab-df-quickchart:hover {\n",
              "    background-color: var(--hover-bg-color);\n",
              "    box-shadow: 0 1px 2px rgba(60, 64, 67, 0.3), 0 1px 3px 1px rgba(60, 64, 67, 0.15);\n",
              "    fill: var(--button-hover-fill-color);\n",
              "  }\n",
              "\n",
              "  .colab-df-quickchart-complete:disabled,\n",
              "  .colab-df-quickchart-complete:disabled:hover {\n",
              "    background-color: var(--disabled-bg-color);\n",
              "    fill: var(--disabled-fill-color);\n",
              "    box-shadow: none;\n",
              "  }\n",
              "\n",
              "  .colab-df-spinner {\n",
              "    border: 2px solid var(--fill-color);\n",
              "    border-color: transparent;\n",
              "    border-bottom-color: var(--fill-color);\n",
              "    animation:\n",
              "      spin 1s steps(1) infinite;\n",
              "  }\n",
              "\n",
              "  @keyframes spin {\n",
              "    0% {\n",
              "      border-color: transparent;\n",
              "      border-bottom-color: var(--fill-color);\n",
              "      border-left-color: var(--fill-color);\n",
              "    }\n",
              "    20% {\n",
              "      border-color: transparent;\n",
              "      border-left-color: var(--fill-color);\n",
              "      border-top-color: var(--fill-color);\n",
              "    }\n",
              "    30% {\n",
              "      border-color: transparent;\n",
              "      border-left-color: var(--fill-color);\n",
              "      border-top-color: var(--fill-color);\n",
              "      border-right-color: var(--fill-color);\n",
              "    }\n",
              "    40% {\n",
              "      border-color: transparent;\n",
              "      border-right-color: var(--fill-color);\n",
              "      border-top-color: var(--fill-color);\n",
              "    }\n",
              "    60% {\n",
              "      border-color: transparent;\n",
              "      border-right-color: var(--fill-color);\n",
              "    }\n",
              "    80% {\n",
              "      border-color: transparent;\n",
              "      border-right-color: var(--fill-color);\n",
              "      border-bottom-color: var(--fill-color);\n",
              "    }\n",
              "    90% {\n",
              "      border-color: transparent;\n",
              "      border-bottom-color: var(--fill-color);\n",
              "    }\n",
              "  }\n",
              "</style>\n",
              "\n",
              "  <script>\n",
              "    async function quickchart(key) {\n",
              "      const quickchartButtonEl =\n",
              "        document.querySelector('#' + key + ' button');\n",
              "      quickchartButtonEl.disabled = true;  // To prevent multiple clicks.\n",
              "      quickchartButtonEl.classList.add('colab-df-spinner');\n",
              "      try {\n",
              "        const charts = await google.colab.kernel.invokeFunction(\n",
              "            'suggestCharts', [key], {});\n",
              "      } catch (error) {\n",
              "        console.error('Error during call to suggestCharts:', error);\n",
              "      }\n",
              "      quickchartButtonEl.classList.remove('colab-df-spinner');\n",
              "      quickchartButtonEl.classList.add('colab-df-quickchart-complete');\n",
              "    }\n",
              "    (() => {\n",
              "      let quickchartButtonEl =\n",
              "        document.querySelector('#df-f1b8b5da-3eac-4658-9d01-262a1e43de06 button');\n",
              "      quickchartButtonEl.style.display =\n",
              "        google.colab.kernel.accessAllowed ? 'block' : 'none';\n",
              "    })();\n",
              "  </script>\n",
              "</div>\n",
              "\n",
              "    </div>\n",
              "  </div>\n"
            ],
            "application/vnd.google.colaboratory.intrinsic+json": {
              "type": "dataframe",
              "variable_name": "train_df",
              "summary": "{\n  \"name\": \"train_df\",\n  \"rows\": 8530,\n  \"fields\": [\n    {\n      \"column\": \"text\",\n      \"properties\": {\n        \"dtype\": \"string\",\n        \"num_unique_values\": 8530,\n        \"samples\": [\n          \"it would take a complete moron to foul up a screen adaptation of oscar wilde's classic satire .\",\n          \"so we got ten little indians meets friday the 13th by way of clean and sober , filmed on the set of carpenter's the thing and loaded with actors you're most likely to find on the next inevitable incarnation of the love boat .\",\n          \"unfortunately , heartbreak hospital wants to convey the same kind of haughtiness in its own sketchy material but this territory has already been explored previously with better aplomb and sardonic wit .\"\n        ],\n        \"semantic_type\": \"\",\n        \"description\": \"\"\n      }\n    },\n    {\n      \"column\": \"label\",\n      \"properties\": {\n        \"dtype\": \"number\",\n        \"std\": 0,\n        \"min\": 0,\n        \"max\": 1,\n        \"num_unique_values\": 2,\n        \"samples\": [\n          0,\n          1\n        ],\n        \"semantic_type\": \"\",\n        \"description\": \"\"\n      }\n    },\n    {\n      \"column\": \"tokens\",\n      \"properties\": {\n        \"dtype\": \"object\",\n        \"semantic_type\": \"\",\n        \"description\": \"\"\n      }\n    }\n  ]\n}"
            }
          },
          "metadata": {},
          "execution_count": 8
        }
      ],
      "source": [
        "train_df.head()"
      ]
    },
    {
      "cell_type": "code",
      "execution_count": 9,
      "metadata": {
        "id": "9WrWPGaa0EWj"
      },
      "outputs": [],
      "source": [
        "# save the train, test and validation dataframes after tokenizing\n",
        "train_df.to_csv(\"movie_train.csv\", index=False)\n",
        "validation_df.to_csv(\"movie_validation.csv\", index=False)\n",
        "test_df.to_csv(\"movie_test.csv\", index=False)"
      ]
    },
    {
      "cell_type": "code",
      "execution_count": 10,
      "metadata": {
        "colab": {
          "base_uri": "https://localhost:8080/"
        },
        "id": "76YJtmO9TNjS",
        "outputId": "588c7e9b-a552-4557-96d1-f40d5a0e768c"
      },
      "outputs": [
        {
          "output_type": "stream",
          "name": "stdout",
          "text": [
            "[==================================================] 100.0% 1662.8/1662.8MB downloaded\n"
          ]
        }
      ],
      "source": [
        "# load pretrained word2vec dictionary\n",
        "word2vec_model = gensim.downloader.load('word2vec-google-news-300')"
      ]
    },
    {
      "cell_type": "markdown",
      "metadata": {
        "id": "KzbzF7GL5PWj"
      },
      "source": [
        "# Part 1"
      ]
    },
    {
      "cell_type": "markdown",
      "metadata": {
        "id": "OVS7zVxbvjrA"
      },
      "source": [
        "## Question 1a\n",
        "To get the size of vocabulary, we can use `Counter` as a better alternative to `set()` function so as to keep track of each token's frequency from the beginning. We can get the vocabulary size from the number of unique keys in the `token_counts` dictionary."
      ]
    },
    {
      "cell_type": "code",
      "execution_count": 11,
      "metadata": {
        "colab": {
          "base_uri": "https://localhost:8080/"
        },
        "id": "5w0RQweVT8Um",
        "outputId": "b2d8eebf-cc27-4d53-bc04-bf11f80f2a68"
      },
      "outputs": [
        {
          "output_type": "stream",
          "name": "stdout",
          "text": [
            "Vocabulary size: 16288\n",
            "Top 5 most popular tokens and their frequencies:\n",
            "the: 8115\n",
            "and: 4971\n",
            "of: 4886\n",
            "to: 3447\n",
            "it: 2743\n"
          ]
        }
      ],
      "source": [
        "# get the vocabulary size of training data\n",
        "from collections import Counter\n",
        "all_tokens = [token for sublist in train_df['tokens'] for token in sublist]\n",
        "\n",
        "# count token frequencies\n",
        "token_counts = Counter(all_tokens)\n",
        "print(\"Vocabulary size:\", len(token_counts))\n",
        "\n",
        "# 5 most common tokens and their frequencies\n",
        "top_5_tokens = token_counts.most_common(5)\n",
        "print(\"Top 5 most popular tokens and their frequencies:\")\n",
        "for token, frequency in top_5_tokens:\n",
        "    print(f\"{token}: {frequency}\")"
      ]
    },
    {
      "cell_type": "markdown",
      "metadata": {
        "id": "FDUjU1DT3Lu7"
      },
      "source": [
        "## Question 1b\n",
        "**We use OOV (out-of-vocabulary) to refer to those words appeared in the training data but\n",
        "not in the Word2vec (or Glove) dictionary. How many OOV words exist in your training data?**\n"
      ]
    },
    {
      "cell_type": "code",
      "execution_count": 12,
      "metadata": {
        "colab": {
          "base_uri": "https://localhost:8080/"
        },
        "id": "s35mJLlUUAfi",
        "outputId": "cdcd2e19-940f-4a12-c49d-d48d869069ec"
      },
      "outputs": [
        {
          "output_type": "stream",
          "name": "stdout",
          "text": [
            "Vocabulary size of word2vec: 3000000\n"
          ]
        }
      ],
      "source": [
        "# get vocabulary of word2vec dictionary\n",
        "word2vec_vocab = set(word2vec_model.key_to_index)\n",
        "print(\"Vocabulary size of word2vec:\", len(word2vec_vocab))"
      ]
    },
    {
      "cell_type": "code",
      "execution_count": 13,
      "metadata": {
        "colab": {
          "base_uri": "https://localhost:8080/"
        },
        "id": "7JMLVbttA2B8",
        "outputId": "f3560ace-ab9f-413b-e511-997ebaa51c71"
      },
      "outputs": [
        {
          "output_type": "stream",
          "name": "stdout",
          "text": [
            "Number of OOV words: 15984\n",
            "Percentage of OOV words out of the whole dataset: 98.13%\n"
          ]
        }
      ],
      "source": [
        "oov_tokens = []  # store OOV words\n",
        "\n",
        "for token in all_tokens:\n",
        "    if token not in word2vec_vocab:\n",
        "        oov_tokens.append(token)\n",
        "\n",
        "oov_count = len(oov_tokens)\n",
        "print(\"Number of OOV words:\", oov_count)\n",
        "oov_percentage = (oov_count/len(token_counts)) * 100\n",
        "print(f\"Percentage of OOV words out of the whole dataset: {oov_percentage:.2f}%\")"
      ]
    },
    {
      "cell_type": "code",
      "execution_count": 14,
      "metadata": {
        "colab": {
          "base_uri": "https://localhost:8080/"
        },
        "id": "1wtcRaBrUFmt",
        "outputId": "b112ddd0-c355-4751-ebb5-5061662f9d4d"
      },
      "outputs": [
        {
          "output_type": "stream",
          "name": "stdout",
          "text": [
            "The top 20 most common OOV words:\n",
            "and: 4971\n",
            "of: 4886\n",
            "to: 3447\n",
            "spielberg: 21\n",
            "niro: 20\n",
            "soderbergh: 17\n",
            "solondz: 15\n",
            "sandler: 14\n",
            "seagal: 14\n",
            "scorsese: 13\n",
            "polanski: 12\n",
            "frida: 12\n",
            "sade: 12\n",
            "herzog: 11\n",
            "humour: 11\n",
            "kissinger: 11\n",
            "benigni: 11\n",
            "broomfield: 10\n",
            "carvey: 10\n",
            "pinocchio: 10\n"
          ]
        }
      ],
      "source": [
        "# Count the occurrences of each OOV token\n",
        "oov_token_counts = Counter(oov_tokens)\n",
        "\n",
        "# Get the top 20 most common OOV words\n",
        "top_20_oov_tokens = oov_token_counts.most_common(20)\n",
        "\n",
        "print(\"The top 20 most common OOV words:\")\n",
        "for word, count in top_20_oov_tokens:\n",
        "    print(f\"{word}: {count}\")"
      ]
    },
    {
      "cell_type": "code",
      "execution_count": 15,
      "metadata": {
        "colab": {
          "base_uri": "https://localhost:8080/"
        },
        "id": "VO1S3ie3aYVr",
        "outputId": "6278a89f-7eba-489f-f04e-ec1c865957ad"
      },
      "outputs": [
        {
          "output_type": "stream",
          "name": "stdout",
          "text": [
            "Number of distinct OOV tokens: 1473\n"
          ]
        }
      ],
      "source": [
        "# print the number of distinct OOV tokens\n",
        "print(\"Number of distinct OOV tokens:\", len(set(oov_tokens)))"
      ]
    },
    {
      "cell_type": "markdown",
      "metadata": {
        "id": "AZiI3jVJ5PWo"
      },
      "source": [
        "Most of these OOV tokens are named entities, let us see how many distinct named entities there are."
      ]
    },
    {
      "cell_type": "code",
      "execution_count": 16,
      "metadata": {
        "id": "A9c6QdIoWlrF"
      },
      "outputs": [],
      "source": [
        "import spacy\n",
        "nlp = spacy.load('en_core_web_sm')"
      ]
    },
    {
      "cell_type": "code",
      "execution_count": 17,
      "metadata": {
        "colab": {
          "base_uri": "https://localhost:8080/"
        },
        "id": "c8TPrIA8Whls",
        "outputId": "d79c6ea3-05e2-43fd-dda1-af8ef058906d"
      },
      "outputs": [
        {
          "output_type": "stream",
          "name": "stdout",
          "text": [
            "Number of identified entity tokens: 233\n",
            "Percentage of distinct OOV tokens identified as entities: 15.81805838424983%\n",
            "\n",
            "Identified named entities in OOV tokens: ['neeson', 'arwen', 'elie', 'nettelbeck', 'gilliam', 'lapaglia', 'senegalese', 'incoloro', 'melville', 'abandono', 'hanukkah', 'leavitt', 'grandiosa', 'kurosawa', 'ivans', 'fabuleux', 'história', 'deniro', 'ahola', 'djeinaba', 'guión', 'dirigida', 'possui', 'alcatraz', 'ballhaus', 'avventura', 'kieslowski', 'direção', 'obligada', 'dench', 'famuyiwa', 'mesmos', 'lohman', 'eroti', 'nickleby', 'næs', 'colgate', 'mctiernan', 'girardot', 'carnahan', 'glizty', 'enternecedora', 'besco', 'juwanna', 'zoolander', 'contrária', 'veljohnson', 'eudora', 'magimel', 'armenians', 'ronn', 'fica', 'fracasso', 'caulfield', 'esforço', 'franz', 'besson', 'brecht', 'pasadena', 'superada', 'raimi', 'cronenberg', 'veronique', 'giovanni', 'fílmica', 'aidan', 'kiarostami', 'hitchcockian', 'fulford', 'carrey', 'tunisian', 'ararat', 'frida', 'galinsky', 'scorcese', 'nadia', 'addessi', 'flatbush', 'diferença', 'kafka', 'devito', 'raphael', 'kalvert', 'naqoyqatsi', 'resnick', 'fabian', 'malle', 'shakesperean', 'zhao', 'grey', 'helga', 'joffé', 'wilco', 'tolkien', 'shadyac', 'morrissette', 'desta', 'wwii', 'silberstein', 'hearst', 'larson', 'demeanour', 'sonnenfeld', 'lucía', 'leguizamo', 'hornby', 'nenette', 'bibbidy', 'balzac', 'marivaux', 'covardia', 'ouro', 'beresford', 'swanson', 'personagens', 'deseos', 'matheson', 'takashi', 'thurman', 'labour', 'scorsese', 'começamos', 'felinni', 'melodramáticos', 'babbitt', 'desaponta', 'nonethnic', 'dreyfus', 'siegel', 'ziyi', 'tartakovsky', 'nalin', 'divertida', 'aladdin', 'næss', 'cuarón', 'beatrice', 'condensada', 'gainsbourg', 'kuras', 'solondzian', 'steinberg', 'hundert', 'kasem', 'laboriousness', 'zaza', 'conmovedora', 'majidi', 'kissinger', 'crappola', 'shainberg', 'corcuera', 'nebrida', 'julianne', 'juergensen', 'antonia', 'alagna', 'chekhov', 'dumas', 'justine', 'zhuangzhuang', 'expresar', 'koepp', 'italianas', 'saigon', 'mib', 'duración', 'vulakoro', 'blutarsky', 'truffaut', 'bartlett', 'alfonso', 'idiomas', 'weimar', 'topkapi', 'artístico', 'clearasil', 'parodia', 'zeus', 'ramis', 'kazmierski', 'marxian', 'hellstenius', 'talancón', 'binoche', 'actuación', 'carlito', 'astoria', 'chanukah', 'jacobson', 'tautou', 'liman', 'arriesgado', 'heidegger', 'hawley', 'runteldat', 'pryor', 'havia', 'aurelie', 'grato', 'nakata', 'desfecho', 'hunnam', 'ruggero', 'shinya', 'perdona', 'decasia', 'mullinski', 'tomei', 'hashiguchi', 'janey', 'orson', 'spielberg', 'jacobi', 'mergulha', 'têm', 'hudlin', 'schepisi', 'fato', 'niccol', 'estava', 'lanie', 'nicolas', 'malkovich', 'buñuel', 'complejos', 'amari', 'penas', 'criar', 'eisenberg', 'clichês', 'witherspoon', 'hjelje']\n"
          ]
        }
      ],
      "source": [
        "identified_entities = []\n",
        "\n",
        "# identify named entities using spaCy NER\n",
        "def identify_named_entities(oov_tokens):\n",
        "    for token in oov_tokens:\n",
        "        doc = nlp(token)\n",
        "\n",
        "        # detect any entities\n",
        "        for ent in doc.ents:\n",
        "            if ent.text == token:\n",
        "                identified_entities.append(ent.text)\n",
        "\n",
        "    return set(identified_entities)\n",
        "\n",
        "identified_entities = identify_named_entities(oov_tokens)\n",
        "print(\"Number of identified entity tokens:\", len(identified_entities))\n",
        "print(f\"Percentage of distinct OOV tokens identified as entities: {(len(identified_entities)/len(set(oov_tokens)))*100}%\")\n",
        "print(\"\\nIdentified named entities in OOV tokens:\", list(identified_entities))"
      ]
    },
    {
      "cell_type": "markdown",
      "metadata": {
        "id": "Ssig69aq7GF_"
      },
      "source": [
        "## Question 1c\n",
        "**The existence of the OOV words is one of the well-known limitations of Word2vec (or Glove).\n",
        "Without using any transformer-based language models (e.g., BERT, GPT, T5), what do you\n",
        "think is the best strategy to mitigate such limitation? Implement your solution in your source\n",
        "code. Show the corresponding code snippet.**\n",
        "\n",
        "Usually, the common approach to handling out-of-vocabulary (OOV) words is to replace them with `<UNK>`. However, the problem is with our high percentage of OOV words (i.e. 98.13%), the model is very likely to encounter the majority of the words as `<UNK>`. This means that a large proportion of text is seen as a single token, failing to capture the semantic differences between these OOV tokens.\n",
        "\n",
        "While most research suggests character-level embeddings to handle `<UNK>`, they are not considered here, as they may introduce unnecessary complexity without significantly improving performance for this generic sentiment analysis, where word-level context is more crucial than individual character representations for capturing sentiment.\n",
        "\n",
        "Furthermore, in the recent NER analysis of the OOV tokens, only 15.8% of the OOV tokens were identified as named entities, and the majority (84.2%) are non-entity words. To ensure that the model can learn meaningful embeddings for both named entities and other relevant non-entity words critical in this generic sentiment analysis task, we shall simply initialise all OOV tokens randomly and allow the model to fine-tune these embeddings. This is a better alternative to initialising all the OOV tokens as zero vectors for OOV tokens which which can result in sparse embeddings, information loss and hinder model performance.\n"
      ]
    },
    {
      "cell_type": "code",
      "execution_count": 18,
      "metadata": {
        "id": "2IOjFenhl6sf"
      },
      "outputs": [],
      "source": [
        "import numpy as np"
      ]
    },
    {
      "cell_type": "markdown",
      "metadata": {
        "id": "64uRvp7pmCHw"
      },
      "source": [
        "For part 2, we will initialise an embedding matrix that doesn't handle OOV tokens."
      ]
    },
    {
      "cell_type": "code",
      "execution_count": 19,
      "metadata": {
        "colab": {
          "base_uri": "https://localhost:8080/"
        },
        "id": "tebFjqXqmBeJ",
        "outputId": "930b73da-9bb1-4f05-94db-cac2e8fe7434"
      },
      "outputs": [
        {
          "output_type": "stream",
          "name": "stdout",
          "text": [
            "Non OOV vocabulary size: 14815\n",
            "Embedding matrix shape: (14815, 300)\n"
          ]
        }
      ],
      "source": [
        "def prepare_non_oov_embeddings(df, word2vec_model, embedding_dim=300):\n",
        "    # intersect unique tokens from df with word2vec vocabulary\n",
        "    df_vocab = set(word for token_list in df['tokens'] for word in token_list)\n",
        "    common_vocab = df_vocab.intersection(word2vec_model.key_to_index)\n",
        "\n",
        "    # create word-to-index mapping\n",
        "    word_to_idx = {word: idx for idx, word in enumerate(common_vocab)}\n",
        "    idx_to_word = {idx: word for word, idx in word_to_idx.items()}\n",
        "\n",
        "    # initialize embedding matrix for common vocabulary only\n",
        "    vocab_size = len(common_vocab)\n",
        "    embedding_matrix = np.zeros((vocab_size, embedding_dim))\n",
        "\n",
        "    # fill embedding matrix with Word2Vec vectors for common words\n",
        "    for word, idx in word_to_idx.items():\n",
        "        embedding_matrix[idx] = word2vec_model[word]\n",
        "\n",
        "    print(f\"Non OOV vocabulary size: {vocab_size}\")\n",
        "    print(f\"Embedding matrix shape: {embedding_matrix.shape}\")\n",
        "\n",
        "    return embedding_matrix, word_to_idx, idx_to_word\n",
        "\n",
        "embedding_matrix_non_oov, word_to_idx, idx_to_word = prepare_non_oov_embeddings(df=train_df, word2vec_model=word2vec_model)"
      ]
    },
    {
      "cell_type": "markdown",
      "metadata": {
        "id": "1zhu1ZRzmVr3"
      },
      "source": [
        "Now, let's initialise an embedding matrix that handles the OOV tokens with random initialisation."
      ]
    },
    {
      "cell_type": "code",
      "execution_count": 20,
      "metadata": {
        "colab": {
          "base_uri": "https://localhost:8080/"
        },
        "id": "-dJ0B0j-mPaT",
        "outputId": "3409d28d-b59a-4927-ddcf-2cafe5a9dfb9"
      },
      "outputs": [
        {
          "output_type": "stream",
          "name": "stdout",
          "text": [
            "Vocabulary size with OOV tokens: 16288\n",
            "Embedding matrix shape: (16288, 300)\n"
          ]
        }
      ],
      "source": [
        "def prepare_oov_embeddings(df, word2vec_model, embedding_dim=300):\n",
        "    # intersect unique tokens from df with word2vec vocabulary\n",
        "    df_vocab = set(word for token_list in df['tokens'] for word in token_list)\n",
        "    common_vocab = df_vocab.intersection(word2vec_model.key_to_index)\n",
        "\n",
        "    # create word-to-index mapping for all tokens, including OOV tokens\n",
        "    word_to_idx = {word: idx for idx, word in enumerate(df_vocab)}\n",
        "    idx_to_word = {idx: word for word, idx in word_to_idx.items()}\n",
        "\n",
        "    # initialize embedding matrix for ALL TOKENS (OOV and in-vocabulary)\n",
        "    vocab_size = len(df_vocab)\n",
        "    embedding_matrix = np.random.randn(vocab_size, embedding_dim)  # random initialization for all words\n",
        "\n",
        "    # fill embedding matrix with Word2Vec vectors for words in common vocabulary\n",
        "    for word, idx in word_to_idx.items():\n",
        "        if word in word2vec_model.key_to_index:\n",
        "            embedding_matrix[idx] = word2vec_model[word]\n",
        "\n",
        "    print(f\"Vocabulary size with OOV tokens: {vocab_size}\")\n",
        "    print(f\"Embedding matrix shape: {embedding_matrix.shape}\")\n",
        "\n",
        "    return embedding_matrix, word_to_idx, idx_to_word\n",
        "\n",
        "embedding_matrix_oov, word_to_idx, idx_to_word = prepare_oov_embeddings(df=train_df, word2vec_model=word2vec_model)"
      ]
    },
    {
      "cell_type": "code",
      "execution_count": 21,
      "metadata": {
        "id": "j3vhAnQzHeAt"
      },
      "outputs": [],
      "source": [
        "# save the embedding matrix with no oov\n",
        "np.save(\"embedding_matrix_non_oov.npy\", embedding_matrix_non_oov)\n",
        "# save embedding matrix with OOV\n",
        "np.save(\"embedding_matrix_oov.npy\", embedding_matrix_oov)"
      ]
    },
    {
      "cell_type": "markdown",
      "metadata": {
        "id": "4TNGgaCjzvC1"
      },
      "source": [
        "# References:\n",
        "\n",
        "https://radimrehurek.com/gensim/utils.html"
      ]
    }
  ],
  "metadata": {
    "colab": {
      "provenance": []
    },
    "kernelspec": {
      "display_name": "Python 3",
      "name": "python3"
    },
    "language_info": {
      "name": "python"
    }
  },
  "nbformat": 4,
  "nbformat_minor": 0
}